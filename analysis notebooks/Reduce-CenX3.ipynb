{
  "nbformat_minor": 5, 
  "nbformat": 4, 
  "cells": [
    {
      "source": [
        "# Setup  Directories"
      ], 
      "cell_type": "markdown", 
      "id": "6304b002-24f4-44ad-9d3e-d345527be20f", 
      "metadata": {}
    }, 
    {
      "cell_type": "code", 
      "execution_count": 1, 
      "outputs": [], 
      "source": [
        "!  [ -d output ] || mkdir output ; [ -d figures ] || mkdir figures"
      ], 
      "id": "b7614795-2642-400b-9532-c1788d7efe88", 
      "metadata": {}
    }, 
    {
      "source": [
        "# Load Packages"
      ], 
      "cell_type": "markdown", 
      "id": "cooked-captain", 
      "metadata": {
        "tags": []
      }
    }, 
    {
      "cell_type": "code", 
      "execution_count": 2, 
      "outputs": [], 
      "source": [
        "import matplotlib.pyplot as plt\n", 
        "import numpy as np\n", 
        "from astropy.io import fits\n", 
        "from scipy.optimize import curve_fit,minimize\n", 
        "from glob import glob"
      ], 
      "id": "angry-negotiation", 
      "metadata": {}
    }, 
    {
      "cell_type": "code", 
      "execution_count": 3, 
      "outputs": [], 
      "source": [
        "def angfunk(alpha,beta,phase):\n", 
        "    tanhalfC=np.tan(phase*np.pi)\n", 
        "    halfamb=np.radians(alpha-beta)/2\n", 
        "    halfapb=np.radians(alpha+beta)/2\n", 
        "    halfAmB=np.arctan2(np.sin(halfamb),np.sin(halfapb)*tanhalfC)\n", 
        "    halfApB=np.arctan2(np.cos(halfamb),np.cos(halfapb)*tanhalfC)\n", 
        "    return (halfApB-halfAmB)\n", 
        "\n", 
        "def angfunk2(alpha,beta,phase):\n", 
        "    a=np.radians(alpha)\n", 
        "    b=np.radians(beta)\n", 
        "    sbeta=np.sin(b)\n", 
        "    p=phase*2*np.pi\n", 
        "    return np.arctan2(sbeta*np.sin(p),(np.cos(b)*np.sin(a)-sbeta*np.cos(a)*np.cos(p)))\n", 
        "def costheta(alpha,beta,phase):\n", 
        "    a=np.radians(alpha)\n", 
        "    b=np.radians(beta)\n", 
        "    return np.cos(a)*np.cos(b)+np.sin(a)*np.sin(b)*np.cos(phase*2*np.pi) "
      ], 
      "id": "documented-latin", 
      "metadata": {}
    }, 
    {
      "source": [
        "# Load Data and Modulation Fraction"
      ], 
      "cell_type": "markdown", 
      "id": "00e17cbb-07ab-4a7f-9f34-1e512fee0890", 
      "metadata": {}
    }, 
    {
      "cell_type": "code", 
      "execution_count": 4, 
      "outputs": [
        {
          "output_type": "stream", 
          "name": "stdout", 
          "text": [
            "0 /home/idies/workspace/headata/FTP/ixpe/data/obs/01/01250201/event_l2/ixpe01250201_det1_evt2_v02.fits.gz\n", 
            "1 /home/idies/workspace/headata/FTP/ixpe/data/obs/01/01250201/event_l2/ixpe01250201_det2_evt2_v02.fits.gz\n", 
            "2 /home/idies/workspace/headata/FTP/ixpe/data/obs/01/01250201/event_l2/ixpe01250201_det3_evt2_v02.fits.gz\n"
          ]
        }
      ], 
      "source": [
        "# point this to wherever the IXPE Calb files are located\n", 
        "CALB_DIR='/home/idies/workspace/headata/FTP/caldb/data'\n", 
        "OBSID='01250201'\n", 
        "# point this to wherever the IXPE data files are located -- this is on sciserver.org\n", 
        "datafile='/home/idies/workspace/headata/FTP/ixpe/data/obs/%s/%s/event_l2/ixpe%s_det?_evt2_v02.fits.gz' % (OBSID[0:2],OBSID,OBSID)\n", 
        "#datafile='/home/idies/workspace/Temporary/heyl/scratch/1RXS/01003199/event_l2/*1.fits.gz'\n", 
        "#for i,f in enumerate(sorted(glob('01003299/event_l2/ixpe01003299_det?_evt2_v02_geocenter.fits.gz'))):\n", 
        "for i,f in enumerate(sorted(glob(datafile))): \n", 
        "    print(i,f)\n", 
        "    with fits.open('%s/ixpe/gpd/cpf/modfact/ixpe_d%d_20170101_mfact_02.fits' % (CALB_DIR,i+1)) as hdu:\n", 
        "        modlist=hdu[1].data['SPECRESP']\n", 
        "    with fits.open(f) as hdu:\n", 
        "        # hdu[1].data['PI']=pislope[i]*hdu[1].data['PI']+pioffset[i]\n", 
        "        if (i==0):\n", 
        "            MJDREFI=hdu[0].header['MJDREFI']\n", 
        "            MJDREFF=hdu[0].header['MJDREFF']\n", 
        "            LIVETIME=hdu[0].header['LIVETIME']\n", 
        "            evtlist=hdu[1].data\n", 
        "            moddata=np.transpose(modlist[np.clip(hdu[1].data['PI']-25,0,len(modlist)-1)])\n", 
        "            detector=np.full(len(hdu[1].data),i+1)\n", 
        "        else:\n", 
        "            evtlist=np.append(evtlist,hdu[1].data)\n", 
        "            moddata=np.concatenate((moddata,np.transpose(modlist[np.clip(hdu[1].data['PI']-25,0,len(modlist)-1)])))\n", 
        "            detector=np.concatenate((detector,np.full(len(hdu[1].data),i+1)))\n"
      ], 
      "id": "collaborative-thriller", 
      "metadata": {}
    }, 
    {
      "cell_type": "code", 
      "execution_count": 5, 
      "outputs": [
        {
          "output_type": "stream", 
          "name": "stdout", 
          "text": [
            "301.3189 304.74167\n", 
            "301.3597 304.88684\n", 
            "301.3612 304.89142\n", 
            "301.3612 304.89145\n", 
            "301.3612 304.89145\n"
          ]
        }
      ], 
      "source": [
        "xc, yc=300, 300\n", 
        "for _i in range(5):\n", 
        "    rr=np.hypot(evtlist['X']-xc,evtlist['Y']-yc)\n", 
        "    ok=(evtlist['PI']>49) & (evtlist['PI']<=200) & (rr<50) \n", 
        "    xc,yc=np.mean(evtlist['X'][ok]),np.mean(evtlist['Y'][ok])\n", 
        "    print(xc,yc)\n", 
        "rr=np.hypot(evtlist['X']-xc,evtlist['Y']-yc)\n", 
        "ok=(evtlist['PI']>49) & (evtlist['PI']<=200) & (rr<20) \n", 
        "back=(evtlist['PI']>49) & (evtlist['PI']<=200) & (rr>30)  & (rr<50)\n", 
        "evtback=evtlist[back]\n", 
        "evtlist=evtlist[ok]\n", 
        "modback=moddata[back]\n", 
        "moddata=moddata[ok]\n", 
        "detback=detector[back]\n", 
        "detector=detector[ok]\n"
      ], 
      "id": "transparent-papua", 
      "metadata": {}
    }, 
    {
      "cell_type": "code", 
      "execution_count": 6, 
      "outputs": [
        {
          "output_type": "display_data", 
          "data": {
            "image/png": "[encoded data removed]", 
            "text/plain": [
              "<Figure size 432x288 with 1 Axes>"
            ]
          }, 
          "metadata": {
            "needs_background": "light"
          }
        }, 
        {
          "execution_count": 6, 
          "output_type": "execute_result", 
          "data": {
            "text/plain": [
              "[<matplotlib.lines.Line2D at 0x7fd785784760>]"
            ]
          }, 
          "metadata": {}
        }, 
        {
          "output_type": "display_data", 
          "data": {
            "image/png": "[encoded data removed]", 
            "text/plain": [
              "<Figure size 432x288 with 1 Axes>"
            ]
          }, 
          "metadata": {
            "needs_background": "light"
          }
        }
      ], 
      "source": [
        "plt.hist2d(evtlist['X'],evtlist['Y'],bins=100)\n", 
        "plt.show()\n", 
        "plt.plot(evtlist['X'],evtlist['Y'],',')\n", 
        "plt.plot(evtback['X'],evtback['Y'],',')"
      ], 
      "id": "premium-remedy", 
      "metadata": {}
    }, 
    {
      "cell_type": "code", 
      "execution_count": 7, 
      "outputs": [], 
      "source": [
        "pispec=np.histogram(evtlist['PI'],bins=150)[0]\n", 
        "np.save('output/pispec',pispec)"
      ], 
      "id": "proof-mitchell", 
      "metadata": {}
    }, 
    {
      "cell_type": "code", 
      "execution_count": 8, 
      "outputs": [], 
      "source": [
        "backpispec=np.histogram(evtback['PI'],bins=150)[0]*20**2/(50**2-30**2)\n", 
        "np.save('output/backpispec',backpispec)"
      ], 
      "id": "sixth-saskatchewan", 
      "metadata": {}
    }, 
    {
      "cell_type": "code", 
      "execution_count": 9, 
      "outputs": [
        {
          "output_type": "stream", 
          "name": "stdout", 
          "text": [
            "1 -0.0026278792661364203 0.060483889717658945 0.060540950313117146\n", 
            "2 -0.014401953596030888 0.0627799050841303 0.06441065711320322\n", 
            "3 -0.016574992955302615 0.05172885169861504 0.05431946694809918\n"
          ]
        }
      ], 
      "source": [
        "for i in range(1,4):\n", 
        "    _q,_u=np.mean((evtlist['Q']/moddata)[detector==i]),np.mean((evtlist['U']/moddata)[detector==i])\n", 
        "    print(i,_q,_u,np.hypot(_q,_u))"
      ], 
      "id": "minus-duplicate", 
      "metadata": {}
    }, 
    {
      "source": [
        "# Barycentring First Try with GBM Orbital Elements"
      ], 
      "cell_type": "markdown", 
      "id": "71bd1464-1608-4413-ac29-63eb80b51a62", 
      "metadata": {
        "tags": []
      }
    }, 
    {
      "cell_type": "code", 
      "execution_count": 10, 
      "outputs": [], 
      "source": [
        "dobary=True\n", 
        "if dobary:\n", 
        "    ! [ -f cenx3.fits.gz ] || curl https://gammaray.nsstc.nasa.gov/gbm/science/pulsars/lightcurves/cenx3.fits.gz --output cenx3.fits.gz\n", 
        "    with fits.open('cenx3.fits.gz')  as hdu:\n", 
        "        orbitdata=hdu['Orbital Elements'].data\n", 
        "        spindata=hdu['PSR_HIST'].data\n", 
        "    day=3600*24\n", 
        "    TPIOVER2O=orbitdata['BINARYEPOCH']-2400000\n", 
        "    PORB=orbitdata['PBINARY']*day\n", 
        "    PORBDOT=orbitdata['PBDOT']\n", 
        "    ECCENTRICITY=orbitdata['ECCENTRICITY']\n", 
        "    OMEGA=orbitdata['PERIAPSE']\n", 
        "    ASINIOVERC=orbitdata['AXSINI']\n", 
        "    NUORB=1/PORB\n", 
        "    NUORBDOT=-1/PORB/PORB*PORBDOT\n", 
        "    met0=evtlist['TIME'].min()\n", 
        "    MJDSTART=MJDREFF+MJDREFI+met0/day\n", 
        "    NU=np.interp(MJDSTART,spindata['BARYTIME'],spindata['FREQUENCY'])\n", 
        "    NUDOT=np.interp(MJDSTART,spindata['BARYTIME'],spindata['FDOT'])\n", 
        "    TREFNU=MJDSTART\n", 
        "    torb=((MJDREFF+MJDREFI)+evtlist['TIME']/day-TPIOVER2O)*day\n", 
        "    phaseorb=(0.25+torb*(NUORB+torb*NUORBDOT/2))                    \n", 
        "    orbtime=ASINIOVERC*((np.cos(2*np.pi*phaseorb)-np.cos(np.pi/2))-\n", 
        "                    0.5*ECCENTRICITY*(np.sin(4*np.pi*phaseorb-np.radians(OMEGA))-\n", 
        "                                      np.sin(np.pi/2-np.radians(OMEGA))))\n", 
        "    deltat=evtlist['TIME']-met0-orbtime\n", 
        "    freqtst=NU\n", 
        "else:\n", 
        "    deltat=evtlist['TIME']-evtlist['TIME'].min()\n", 
        "    freqtst=1/8.68832905"
      ], 
      "id": "43573827-28d2-4486-a989-17c564f5aa70", 
      "metadata": {}
    }, 
    {
      "source": [
        "## Lomb-Scargle"
      ], 
      "cell_type": "markdown", 
      "id": "choice-showcase", 
      "metadata": {}
    }, 
    {
      "cell_type": "code", 
      "execution_count": 11, 
      "outputs": [], 
      "source": [
        "from astropy.timeseries import LombScargle\n", 
        "ls = LombScargle(deltat,np.ones(len(deltat)))\n", 
        "lsu = LombScargle(deltat,evtlist['U']*moddata)\n", 
        "lsq = LombScargle(deltat,evtlist['Q']*moddata)"
      ], 
      "id": "optional-feedback", 
      "metadata": {}
    }, 
    {
      "cell_type": "code", 
      "execution_count": 12, 
      "outputs": [], 
      "source": [
        "freqq,powerq = lsq.autopower(minimum_frequency=freqtst*0.99,maximum_frequency=freqtst*1.01,samples_per_peak=50)\n", 
        "frequ,poweru = lsu.autopower(minimum_frequency=freqtst*0.99,maximum_frequency=freqtst*1.01,samples_per_peak=50)"
      ], 
      "id": "going-wallace", 
      "metadata": {}
    }, 
    {
      "cell_type": "code", 
      "execution_count": 13, 
      "outputs": [
        {
          "output_type": "stream", 
          "name": "stdout", 
          "text": [
            "0.2085140076453364 2.1068330599283147e-06\n"
          ]
        }
      ], 
      "source": [
        "freq,power = ls.autopower(minimum_frequency=freqtst*0.99,maximum_frequency=freqtst*1.01,samples_per_peak=50)\n", 
        "freqmax=freq[np.argmax(power)]\n", 
        "print(freqmax,freqmax-freqtst)"
      ], 
      "id": "functional-complement", 
      "metadata": {}
    }, 
    {
      "cell_type": "code", 
      "execution_count": 14, 
      "outputs": [
        {
          "execution_count": 14, 
          "output_type": "execute_result", 
          "data": {
            "text/plain": [
              "[<matplotlib.lines.Line2D at 0x7fd810827640>]"
            ]
          }, 
          "metadata": {}
        }, 
        {
          "output_type": "display_data", 
          "data": {
            "image/png": "[encoded data removed]", 
            "text/plain": [
              "<Figure size 432x288 with 1 Axes>"
            ]
          }, 
          "metadata": {
            "needs_background": "light"
          }
        }
      ], 
      "source": [
        "plt.plot(freq,power)\n", 
        "plt.axvline(freqmax,c='r')\n", 
        "plt.plot(frequ,poweru)\n", 
        "plt.plot(freqq,powerq)"
      ], 
      "id": "induced-recorder", 
      "metadata": {
        "tags": []
      }
    }, 
    {
      "cell_type": "code", 
      "execution_count": 15, 
      "outputs": [
        {
          "execution_count": 15, 
          "output_type": "execute_result", 
          "data": {
            "text/plain": [
              "<matplotlib.legend.Legend at 0x7fd8107d0d90>"
            ]
          }, 
          "metadata": {}
        }, 
        {
          "output_type": "display_data", 
          "data": {
            "image/png": "[encoded data removed]", 
            "text/plain": [
              "<Figure size 432x288 with 1 Axes>"
            ]
          }, 
          "metadata": {
            "needs_background": "light"
          }
        }
      ], 
      "source": [
        "plt.loglog(np.linspace(1,len(power),len(power))/len(power),-np.sort(-power),label='I')\n", 
        "plt.loglog(np.linspace(1,len(powerq),len(powerq))/len(powerq),-np.sort(-powerq),label='Q')\n", 
        "plt.loglog(np.linspace(1,len(poweru),len(poweru))/len(poweru),-np.sort(-poweru),label='U')\n", 
        "plt.legend()"
      ], 
      "id": "plastic-lesbian", 
      "metadata": {}
    }, 
    {
      "cell_type": "code", 
      "execution_count": 16, 
      "outputs": [], 
      "source": [
        "_dt=deltat\n", 
        "def calcppow(xx,kmax=2):\n", 
        "    _fff=xx[0]\n", 
        "    _fdf=xx[1]\n", 
        "    phase=2*np.pi*(_dt*(_fff+_dt*_fdf*0.5))\n", 
        "    if kmax>1:\n", 
        "        sphase=np.sin(phase)\n", 
        "        cphase=np.cos(phase)\n", 
        "        snphase=sphase\n", 
        "        cnphase=cphase\n", 
        "        pppow=np.sum(snphase)**2+np.sum(cnphase)**2\n", 
        "        for _j in range(2,kmax+1):\n", 
        "            _snphase=snphase*cphase+cnphase*sphase\n", 
        "            cnphase=cnphase*cphase-snphase*sphase\n", 
        "            snphase=_snphase\n", 
        "            pppow+=np.sum(snphase)**2+np.sum(cnphase)**2\n", 
        "    else:\n", 
        "        pppow=np.sum(np.sin(phase))**2+np.sum(np.cos(phase))**2\n", 
        "    return(-pppow)  "
      ], 
      "id": "personalized-divorce", 
      "metadata": {}
    }, 
    {
      "cell_type": "code", 
      "execution_count": 17, 
      "outputs": [
        {
          "output_type": "stream", 
          "name": "stdout", 
          "text": [
            "-287033032914.0908\n", 
            "-289282562372.2851 [2.08513437e-01 3.66936159e-12]\n", 
            "-289282562372.2851 [2.08513437e-01 3.66936159e-12]\n"
          ]
        }
      ], 
      "source": [
        "print(calcppow([freqmax,-3e-15]))\n", 
        "respow=minimize(calcppow,[freqmax,-3e-15],method='Nelder-Mead')\n", 
        "print(respow.fun,respow.x)\n", 
        "respow=minimize(calcppow,respow.x)\n", 
        "print(respow.fun,respow.x)"
      ], 
      "id": "corrected-importance", 
      "metadata": {}
    }, 
    {
      "cell_type": "code", 
      "execution_count": 18, 
      "outputs": [
        {
          "output_type": "stream", 
          "name": "stdout", 
          "text": [
            "0.2085140076453364 [2.08513437e-01 3.66936159e-12]\n"
          ]
        }
      ], 
      "source": [
        "print(freqmax,respow.x)"
      ], 
      "id": "1df119dd-0d64-46ec-bd5c-2bfb55fe685c", 
      "metadata": {}
    }, 
    {
      "source": [
        "## Folding"
      ], 
      "cell_type": "markdown", 
      "id": "driven-frost", 
      "metadata": {
        "tags": []
      }
    }, 
    {
      "cell_type": "code", 
      "execution_count": 19, 
      "outputs": [
        {
          "output_type": "stream", 
          "name": "stdout", 
          "text": [
            "0.4925667756461662\n"
          ]
        }, 
        {
          "output_type": "display_data", 
          "data": {
            "image/png": "[encoded data removed]", 
            "text/plain": [
              "<Figure size 432x288 with 1 Axes>"
            ]
          }, 
          "metadata": {
            "needs_background": "light"
          }
        }
      ], 
      "source": [
        "phdata=np.mod(deltat*(respow.x[0]+_dt*respow.x[1]*0.5),1)\n", 
        "toton=plt.hist(phdata,bins=100)\n", 
        "print((toton[0].max()-toton[0].min())/(toton[0].max()+toton[0].min()))"
      ], 
      "id": "lined-bottle", 
      "metadata": {}
    }, 
    {
      "cell_type": "code", 
      "execution_count": 20, 
      "outputs": [
        {
          "output_type": "display_data", 
          "data": {
            "image/png": "[encoded data removed]", 
            "text/plain": [
              "<Figure size 432x288 with 1 Axes>"
            ]
          }, 
          "metadata": {
            "needs_background": "light"
          }
        }
      ], 
      "source": [
        "bindata=plt.hist2d(phdata,deltat,bins=100)"
      ], 
      "id": "postal-disposition", 
      "metadata": {}
    }, 
    {
      "source": [
        "This looks like the orbital elements need correction.  Let's correct by hand"
      ], 
      "cell_type": "markdown", 
      "id": "7defa4f7-8e25-4a53-afca-16520e0110cb", 
      "metadata": {}
    }, 
    {
      "cell_type": "code", 
      "execution_count": 21, 
      "outputs": [
        {
          "execution_count": 21, 
          "output_type": "execute_result", 
          "data": {
            "text/plain": [
              "[<matplotlib.lines.Line2D at 0x7fd810350af0>]"
            ]
          }, 
          "metadata": {}
        }, 
        {
          "output_type": "display_data", 
          "data": {
            "image/png": "[encoded data removed]", 
            "text/plain": [
              "<Figure size 432x288 with 1 Axes>"
            ]
          }, 
          "metadata": {
            "needs_background": "light"
          }
        }
      ], 
      "source": [
        "bindata=plt.hist2d(phdata,deltat,bins=100)\n", 
        "plt.plot(-0.044*np.sin(4*np.pi*phaseorb+0.1)+0.4+2e-6*deltat,deltat,',')\n", 
        "plt.plot(np.modf(phaseorb)[0],deltat,',')"
      ], 
      "id": "d39a4aa5-a299-4578-8388-b9a41a5b1711", 
      "metadata": {}
    }, 
    {
      "cell_type": "code", 
      "execution_count": 22, 
      "outputs": [
        {
          "output_type": "display_data", 
          "data": {
            "image/png": "[encoded data removed]", 
            "text/plain": [
              "<Figure size 432x288 with 1 Axes>"
            ]
          }, 
          "metadata": {
            "needs_background": "light"
          }
        }
      ], 
      "source": [
        "phdata_trial=np.mod(deltat*(respow.x[0]+_dt*respow.x[1]*0.5-2e-6)+0.044*np.sin(4*np.pi*phaseorb+0.1)+np.where(deltat>200000,0.3,0)+np.where(deltat<40000,-0.3,0),1)\n", 
        "bindata=plt.hist2d(phdata_trial,deltat,bins=100)\n"
      ], 
      "id": "797987ec-14ff-45f0-8224-3a8d1645134d", 
      "metadata": {}
    }, 
    {
      "cell_type": "code", 
      "execution_count": 23, 
      "outputs": [], 
      "source": [
        "phdata=phdata_trial"
      ], 
      "id": "64fa7ebc-d915-4e62-a534-aa87fc97e517", 
      "metadata": {}
    }, 
    {
      "source": [
        "# Unbinned Likelihood Analysis"
      ], 
      "cell_type": "markdown", 
      "id": "interested-passport", 
      "metadata": {
        "tags": []
      }
    }, 
    {
      "cell_type": "code", 
      "execution_count": 24, 
      "outputs": [], 
      "source": [
        "qdata=evtlist['Q']*moddata\n", 
        "udata=evtlist['U']*moddata\n", 
        "\n", 
        "def maxlikephase(param):\n", 
        "    for _i in range(len(param)//2):\n", 
        "        qloc[_i]=np.cos(2*param[2*_i])*np.tanh(param[2*_i+1])\n", 
        "        uloc[_i]=np.sin(2*param[2*_i])*np.tanh(param[2*_i+1])\n", 
        "#        qloc[_i]=param[2*_i]\n", 
        "#        uloc[_i]=param[2*_i+1]\n", 
        "\n", 
        "    return(-np.sum(np.log(1+0.5*(qloc[phbin]*qdata+uloc[phbin]*udata))))\n", 
        "\n", 
        "def maxlikephaseok(param,_phb,_qd,_ud):\n", 
        "    for _i in range(len(param)//2):\n", 
        "        qloc[_i]=np.cos(2*param[2*_i])*np.tanh(param[2*_i+1])\n", 
        "        uloc[_i]=np.sin(2*param[2*_i])*np.tanh(param[2*_i+1])\n", 
        "#        qloc[_i]=param[2*_i]\n", 
        "#        uloc[_i]=param[2*_i+1]\n", 
        "\n", 
        "    return(-np.sum(np.log(1+0.5*(qloc[_phb]*_qd+uloc[_phb]*_ud))))\n", 
        "\n", 
        "\n", 
        "def maxlikephasequ(param):\n", 
        "    for _i in range(len(param)//2):\n", 
        "        qloc[_i]=np.tanh(param[2*_i])\n", 
        "        uloc[_i]=np.tanh(param[2*_i+1])\n", 
        "#        qloc[_i]=param[2*_i]\n", 
        "#        uloc[_i]=param[2*_i+1]\n", 
        "\n", 
        "    return(-np.sum(np.log(1+0.5*(qloc[phbin]*qdata+uloc[phbin]*udata))))\n", 
        "\n", 
        "def maxlikefixed(param):\n", 
        "    qloc=param[0]\n", 
        "    uloc=param[1]\n", 
        "    norm=np.hypot(qloc,uloc)\n", 
        "    if norm>1:\n", 
        "        qloc/=norm\n", 
        "        uloc/=norm\n", 
        "    \n", 
        "    return(-np.sum(np.log(1+0.5*(qloc*qdata+uloc*udata))))\n", 
        "\n", 
        "def maxlikerotation(param):\n", 
        "    ang=angfunk(param[1],param[2],phdata-param[4])+np.radians(param[3])\n", 
        "    qloc=np.cos(2*ang)*np.tanh(param[0])\n", 
        "    uloc=np.sin(2*ang)*np.tanh(param[0])\n", 
        "    if (len(param)>5):\n", 
        "        qloc+=np.tanh(param[5])\n", 
        "        uloc+=np.tanh(param[6])\n", 
        "    _res=-np.sum(np.log(1+0.5*(qloc*qdata+uloc*udata)))\n", 
        "    # print(_res,param)\n", 
        "    return _res\n", 
        "def maxlikerotation_rand(param):\n", 
        "    ang=angfunk(param[1],param[2],phdata-param[4])+np.radians(param[3])\n", 
        "    qloc=np.cos(2*ang)*np.tanh(param[0])\n", 
        "    uloc=np.sin(2*ang)*np.tanh(param[0])\n", 
        "    if (len(param)>5):\n", 
        "        qloc+=np.tanh(param[5])\n", 
        "        uloc+=np.tanh(param[6])\n", 
        "    return(-np.sum(np.log(1+0.5*(qloc*qrand+uloc*urand))))\n", 
        "def maxlikerotation2(param):\n", 
        "    ang=angfunk(param[1],param[2],phdata-param[4])+np.radians(param[3])\n", 
        "    qloc=np.cos(2*ang)\n", 
        "    uloc=np.sin(2*ang)\n", 
        "    polfrac=np.tanh(param[0])\n", 
        "    if (len(param)>5):\n", 
        "        polfrac*=(1+param[5]*np.cos(2*np.pi*(phdata-param[6])))\n", 
        "    qloc*=polfrac\n", 
        "    uloc*=polfrac\n", 
        "    if (len(param)>7):\n", 
        "        qloc+=np.tanh(param[7])\n", 
        "        uloc+=np.tanh(param[8])        \n", 
        "    return(-np.sum(np.log(1+0.5*(qloc*qdata+uloc*udata))))\n", 
        "def maxlikerotation2_ok(param,_phd,_qd,_ud):\n", 
        "    ang=angfunk(param[1],param[2],_phd-param[4])+np.radians(param[3])\n", 
        "    qloc=np.cos(2*ang)\n", 
        "    uloc=np.sin(2*ang)\n", 
        "    polfrac=np.tanh(param[0])\n", 
        "    if (len(param)>5):\n", 
        "        polfrac*=(1+param[5]*np.cos(2*np.pi*(_phd-param[6])))\n", 
        "    qloc*=polfrac\n", 
        "    uloc*=polfrac\n", 
        "    if (len(param)>7):\n", 
        "        qloc+=np.tanh(param[7])\n", 
        "        uloc+=np.tanh(param[8]) \n", 
        "    return(-np.sum(np.log(1+0.5*(qloc*_qd+uloc*_ud))))\n", 
        "def maxlikerotation2frac(param):\n", 
        "    ang=angfunk(param[1],param[2],phdata-param[4])+np.radians(param[3]+param[4]*tdata)\n", 
        "    qloc=np.cos(2*ang)\n", 
        "    uloc=np.sin(2*ang)\n", 
        "    polfrac=np.tanh(param[0])\n", 
        "    if (len(param)>5):\n", 
        "        polfrac*=(1+param[5]*np.cos(2*np.pi*(phdata-param[6])))\n", 
        "    qloc*=polfrac\n", 
        "    uloc*=polfrac\n", 
        "    if (len(param)>7):\n", 
        "        qloc+=np.tanh(param[7])\n", 
        "        uloc+=np.tanh(param[8])        \n", 
        "    return(-np.sum(np.log(1+0.5*(qloc*qdata+uloc*udata))))"
      ], 
      "id": "resistant-governor", 
      "metadata": {}
    }, 
    {
      "cell_type": "code", 
      "execution_count": 25, 
      "outputs": [], 
      "source": [
        "np.savetxt('output/photondata.txt',[phdata,qdata,udata])"
      ], 
      "id": "massive-joseph", 
      "metadata": {
        "tags": []
      }
    }, 
    {
      "cell_type": "code", 
      "execution_count": 26, 
      "outputs": [
        {
          "execution_count": 26, 
          "output_type": "execute_result", 
          "data": {
            "text/plain": [
              " final_simplex: (array([[-0.00607675,  0.05607775],\n", 
              "       [-0.00614617,  0.05605372],\n", 
              "       [-0.00613405,  0.05612782]]), array([-181.86007455, -181.86004592, -181.86003769]))\n", 
              "           fun: -181.86007455286617\n", 
              "       message: 'Optimization terminated successfully.'\n", 
              "          nfev: 79\n", 
              "           nit: 40\n", 
              "        status: 0\n", 
              "       success: True\n", 
              "             x: array([-0.00607675,  0.05607775])"
            ]
          }, 
          "metadata": {}
        }
      ], 
      "source": [
        "ppp_fixed=minimize(maxlikefixed,np.random.normal(size=2)*np.array([0.3,0.3]),method='Nelder-Mead')\n", 
        "ppp_fixed"
      ], 
      "id": "temporal-adventure", 
      "metadata": {}
    }, 
    {
      "cell_type": "code", 
      "execution_count": 27, 
      "outputs": [
        {
          "execution_count": 27, 
          "output_type": "execute_result", 
          "data": {
            "text/plain": [
              " final_simplex: (array([[  0.06247604,  31.85501425, -11.23494282,  45.1235771 ,\n", 
              "          0.7987362 ],\n", 
              "       [ -0.06247612,  31.85505603, -11.23497042, -44.87634378,\n", 
              "          0.798736  ],\n", 
              "       [ -0.06247598,  31.85496027, -11.23496416, -44.87632383,\n", 
              "          0.79873593],\n", 
              "       [ -0.06247602,  31.8549906 , -11.23496479, -44.87637583,\n", 
              "          0.79873667],\n", 
              "       [ -0.06247603,  31.85500241, -11.23498685, -44.87637964,\n", 
              "          0.79873601],\n", 
              "       [ -0.06247603,  31.85500097, -11.23493668, -44.87639066,\n", 
              "          0.79873629]]), array([-223.53814569, -223.53814569, -223.53814568, -223.53814568,\n", 
              "       -223.53814568, -223.53814568]))\n", 
              "           fun: -223.5381456863261\n", 
              "       message: 'Optimization terminated successfully.'\n", 
              "          nfev: 723\n", 
              "           nit: 439\n", 
              "        status: 0\n", 
              "       success: True\n", 
              "             x: array([  0.06247604,  31.85501425, -11.23494282,  45.1235771 ,\n", 
              "         0.7987362 ])"
            ]
          }, 
          "metadata": {}
        }
      ], 
      "source": [
        "ppp_rot=minimize(maxlikerotation2,np.random.normal(size=5)*np.array([0.1,50,50,90,1]),method='Nelder-Mead')\n", 
        "if (ppp_rot.x[0]<0):\n", 
        "    ppp_rot.x[0]*=-1\n", 
        "    ppp_rot.x[3]+=90\n", 
        "ppp_rot"
      ], 
      "id": "bound-colon", 
      "metadata": {}
    }, 
    {
      "cell_type": "code", 
      "execution_count": 28, 
      "outputs": [], 
      "source": [
        "ppp_rot2=minimize(maxlikerotation2,np.concatenate((ppp_rot.x,np.random.normal(size=2))),method='Nelder-Mead')\n", 
        "ppp_rot2"
      ], 
      "id": "proud-prior", 
      "metadata": {}
    }, 
    {
      "cell_type": "code", 
      "execution_count": 29, 
      "outputs": [], 
      "source": [
        "ppp_rot=minimize(maxlikerotation2,ppp_rot2.x[0:-2],method='Nelder-Mead')\n", 
        "ppp_rot"
      ], 
      "id": "divine-kelly", 
      "metadata": {}
    }, 
    {
      "source": [
        "# Binned Analysis"
      ], 
      "cell_type": "markdown", 
      "id": "african-voluntary", 
      "metadata": {}
    }, 
    {
      "cell_type": "code", 
      "execution_count": 30, 
      "outputs": [], 
      "source": [
        "qloc=np.zeros(10)\n", 
        "uloc=np.zeros(10)\n", 
        "phbin=(phdata//0.1).astype(int)\n", 
        "gogo=True\n", 
        "while gogo:\n", 
        "    ppp_phase=minimize(maxlikephase,np.random.uniform(size=20))\n", 
        "    gogo=(ppp_phase.success==False)\n", 
        "ppp_phase_err=np.diag(ppp_phase.hess_inv)**0.5    "
      ], 
      "id": "arctic-memphis", 
      "metadata": {}
    }, 
    {
      "cell_type": "code", 
      "execution_count": 31, 
      "outputs": [], 
      "source": [
        "ppp_phasequ=minimize(maxlikephasequ,(np.arange(20)+1)*0.2)\n", 
        "ppp_phasequ_err=np.diag(ppp_phasequ.hess_inv)**.5"
      ], 
      "id": "surface-adelaide", 
      "metadata": {}
    }, 
    {
      "cell_type": "code", 
      "execution_count": 32, 
      "outputs": [], 
      "source": [
        "tt=np.sum(toton[0].reshape((10,10)),axis=1)\n", 
        "phlist=np.linspace(0.05,0.95,10)\n", 
        "with open('output/QU_phase.dat','w') as f:\n", 
        "    print('#    Phase        Q/I       EQ/I        U/I       EU/I     Counts')\n", 
        "    f.write('#    Phase        Q/I       EQ/I        U/I       EU/I     Counts\\n')\n", 
        "\n", 
        "    for r in zip(phlist,np.tanh(ppp_phasequ.x[::2]),np.diag(ppp_phasequ.hess_inv)[::2]**0.5/np.cosh(ppp_phasequ.x[::2])**2,\n", 
        "                 np.tanh(ppp_phasequ.x[1::2]),np.diag(ppp_phasequ.hess_inv)[1::2]**0.5/np.cosh(ppp_phasequ.x[1::2])**2,tt):\n", 
        "        print(('%10g '*6) % r)\n", 
        "        f.write((('%10g '*6) % r)+'\\n')"
      ], 
      "id": "distant-announcement", 
      "metadata": {}
    }, 
    {
      "cell_type": "code", 
      "execution_count": 33, 
      "outputs": [], 
      "source": [
        "with open('output/pol_phase.dat','w') as f:\n", 
        "    print('#    Phase         PD        EPD         PA        EPA     Counts')\n", 
        "    f.write('#    Phase         PD        EPD         PA        EPA     Counts\\n')\n", 
        "    for r in zip((np.arange(len(ppp_phase.x)//2)+0.5)/(len(ppp_phase.x)//2),np.abs(np.tanh(ppp_phase.x[1::2])),ppp_phase_err[1::2]/np.cosh(ppp_phase.x[1::2])**2,np.mod(np.degrees(np.where(ppp_phase.x[1::2]>0,0,np.pi*0.5)+ppp_phase.x[::2]),180),\n", 
        "        np.degrees(ppp_phase_err[::2]),tt):\n", 
        "        print('%10g '*6 %r)\n", 
        "        f.write(('%10g '*6 %r)+'\\n')\n", 
        "        "
      ], 
      "id": "suburban-geography", 
      "metadata": {}
    }, 
    {
      "cell_type": "code", 
      "execution_count": 34, 
      "outputs": [], 
      "source": [
        "#plt.figure(figsize=(6,4))\n", 
        "plt.gca().set_aspect('equal')\n", 
        "plt.errorbar(np.tanh(ppp_phasequ.x[::2]),np.tanh(ppp_phasequ.x[1::2]),yerr=np.diag(ppp_phasequ.hess_inv)[1::2]**0.5/np.cosh(ppp_phasequ.x[1::2])**2,xerr=np.diag(ppp_phasequ.hess_inv)[::2]**0.5/np.cosh(ppp_phasequ.x[::2])**2,fmt='.')\n", 
        "for _xx,_yy,_tt in zip(np.tanh(ppp_phasequ.x[::2]),np.tanh(ppp_phasequ.x[1::2]),np.linspace(0.05,0.95,10)):\n", 
        "    plt.text(_xx-3e-2,_yy+1e-2,'%.2f' % _tt)\n", 
        "plt.xlabel('Q/I')\n", 
        "plt.ylabel('U/I')"
      ], 
      "id": "powerful-language", 
      "metadata": {}
    }, 
    {
      "cell_type": "code", 
      "execution_count": 35, 
      "outputs": [], 
      "source": [
        "#plt.figure(figsize=(7,4))\n", 
        "plt.gca().set_aspect('equal')\n", 
        "plt.errorbar(np.tanh(ppp_phasequ.x[::2])*tt,np.tanh(ppp_phasequ.x[1::2])*tt,yerr=tt*np.diag(ppp_phasequ.hess_inv)[1::2]**0.5/np.cosh(ppp_phasequ.x[1::2])**2,xerr=tt*np.diag(ppp_phasequ.hess_inv)[::2]**0.5/np.cosh(ppp_phasequ.x[::2])**2,fmt='.')\n", 
        "for _xx,_yy,_tt,_qq in zip(np.tanh(ppp_phasequ.x[::2])*tt,np.tanh(ppp_phasequ.x[1::2])*tt,phlist,tt):\n", 
        "    plt.text(_xx-3e+1,_yy+1e+1,'%.2f' % (_tt))\n", 
        "param=ppp_rot2.x\n", 
        "ang=angfunk(param[1],param[2],phlist-param[4])+np.radians(param[3])\n", 
        "polfrac=np.tanh(param[0])\n", 
        "if (len(param)>5):\n", 
        "    polfrac*=(1+param[5]*np.cos(2*np.pi*(phlist-param[6])))\n", 
        "\n", 
        "qloc=np.cos(2*ang)*polfrac*60000\n", 
        "uloc=np.sin(2*ang)*polfrac*60000\n", 
        "#plt.plot(qloc,uloc)  \n", 
        "#plt.xlim(-18000,5000)\n", 
        "#plt.ylim(0,12000)\n", 
        "#plt.ylim(-0.1,0.3)\n", 
        "plt.xlabel('Q [Counts]')\n", 
        "plt.ylabel('U [Counts]')\n", 
        "plt.tight_layout()\n", 
        "plt.savefig('figures/QU.pdf')"
      ], 
      "id": "figured-writing", 
      "metadata": {}
    }, 
    {
      "source": [
        "# Plots"
      ], 
      "cell_type": "markdown", 
      "id": "southeast-warrior", 
      "metadata": {
        "tags": []
      }
    }, 
    {
      "cell_type": "code", 
      "execution_count": 36, 
      "outputs": [], 
      "source": [
        "def plottwo(x,y,yerr,fmt):\n", 
        "    _x=np.concatenate((x,x+1))\n", 
        "    _y=np.concatenate((y,y))\n", 
        "    _yerr=np.concatenate((yerr,yerr))\n", 
        "    plt.errorbar(_x,_y,xerr=(_x[1]-_x[0])/2,yerr=_yerr,fmt=fmt)"
      ], 
      "id": "blank-permit", 
      "metadata": {}
    }, 
    {
      "cell_type": "code", 
      "execution_count": 37, 
      "outputs": [], 
      "source": [
        "def cfunk(p,a,b,c):\n", 
        "    return(a*np.cos((p-b)*2*np.pi)+c)\n", 
        "\n", 
        "cfit=curve_fit(cfunk,0.5*toton[1][:-1]+0.5*toton[1][1:],toton[0],sigma=(toton[0])**0.5)\n", 
        "pfit=curve_fit(cfunk,(np.arange(len(ppp_phase.x)//2)+0.5)/10,100*np.abs(np.tanh(ppp_phase.x[1::2])),sigma=100*ppp_phase_err[1::2]/np.cosh(ppp_phase.x[1::2])**2)"
      ], 
      "id": "black-laugh", 
      "metadata": {}
    }, 
    {
      "cell_type": "code", 
      "execution_count": 38, 
      "outputs": [], 
      "source": [
        "toton=plt.hist(phdata,bins=100)\n", 
        "print((toton[0].max()-toton[0].min())/(toton[0].max()+toton[0].min()))"
      ], 
      "id": "multiple-value", 
      "metadata": {}
    }, 
    {
      "cell_type": "code", 
      "execution_count": 39, 
      "outputs": [], 
      "source": [
        "\n", 
        "_ph=np.linspace(0,2,201)\n", 
        "plottwo(0.5*toton[1][:-1]+0.5*toton[1][1:],toton[0],(toton[0])**0.5,'.')\n", 
        "#plt.plot(_ph,cfunk(_ph,*cfit[0]))\n", 
        "plt.ylabel('Counts')\n", 
        "plt.xlabel('Phase')\n", 
        "print((toton[0].max()-toton[0].min())/(toton[0].max()+toton[0].min()),cfit[0][0]/cfit[0][2])\n", 
        "plt.savefig('figures/intensity.pdf')"
      ], 
      "id": "imperial-evolution", 
      "metadata": {}
    }, 
    {
      "cell_type": "code", 
      "execution_count": 40, 
      "outputs": [], 
      "source": [
        "plottwo((np.arange(len(ppp_phase.x)//2)+0.5)/(len(ppp_phase.x)//2),np.abs(np.tanh(ppp_phase.x[1::2])),ppp_phase_err[1::2]/np.cosh(ppp_phase.x[1::2])**2,'.')\n", 
        "#plt.plot(_ph,cfunk(_ph,*pfit[0])/100)\n", 
        "plt.plot(_ph,np.abs(ppp_rot2.x[0]*(1+ppp_rot2.x[5]*np.cos(2*np.pi*(_ph-ppp_rot2.x[6])))))\n", 
        "plt.ylabel('Polarization Degree')\n", 
        "plt.xlabel('Phase')\n", 
        "plt.savefig('figures/polar-deg.pdf')\n", 
        "print(np.mean(np.abs(np.tanh(ppp_phase.x[1::2]))),np.sum((ppp_phase_err[1::2]/np.cosh(ppp_phase.x[1::2]))**2)**0.5/10)"
      ], 
      "id": "indian-induction", 
      "metadata": {}
    }, 
    {
      "cell_type": "code", 
      "execution_count": 41, 
      "outputs": [], 
      "source": [
        "shift=0\n", 
        "plottwo((np.arange(len(ppp_phase.x)//2)+0.5)/(len(ppp_phase.x)//2),np.mod(np.degrees(np.where(ppp_phase.x[1::2]>0,0,np.pi*0.5)+ppp_phase.x[::2])-shift,180)+shift,np.degrees(ppp_phase_err[::2]),'.')\n", 
        "_ph=np.linspace(0,2,401)\n", 
        "print('''\n", 
        "Alpha:                      %g\n", 
        "Beta:                       %g\n", 
        "Mean Polarization Fraction: %g\n", 
        "Ampl Polarization Fraction: %g\n", 
        "Peak Polarization Fraction: %g\n", 
        "Pole across Line of Sight:  %g\n", 
        "Peak Flux:                  %g\n", 
        "''' % ((ppp_rot2.x[1]%180,ppp_rot2.x[2])+tuple(np.mod(np.array([np.abs(np.tanh(ppp_rot2.x[0])),np.abs(ppp_rot2.x[5]*np.tanh(ppp_rot2.x[0])),\n", 
        "                                                            ppp_rot2.x[6],\n", 
        "                                                            ppp_rot2.x[4]+(0 if ppp_rot2.x[2]>0 else 0.5),\n", 
        "                                                            (cfit[0][1] if cfit[0][0]>0 else cfit[0][1]-0.5)]),1))))\n", 
        "print('''\n", 
        "Alpha:                      %g\n", 
        "Beta:                       %g\n", 
        "Mean Polarization Fraction: %g\n", 
        "Pole across Line of Sight:  %g\n", 
        "Peak Flux:                  %g\n", 
        "''' % (ppp_rot.x[1]%180,ppp_rot.x[2],np.abs(np.tanh(ppp_rot.x[0])),np.mod(ppp_rot.x[4]+(0 if ppp_rot.x[2]>0 else 0.5),1),\n", 
        "                                                            np.mod(cfit[0][1] if cfit[0][0]>0 else cfit[0][1]-0.5,1)))\n", 
        "\n", 
        "if ppp_rot.x[0]>0:\n", 
        "    plt.plot(_ph,np.degrees(np.mod((angfunk(ppp_rot.x[1],ppp_rot.x[2],_ph-ppp_rot.x[4])+np.radians(ppp_rot.x[3]-shift)),np.pi))+shift,label='Constant PD')\n", 
        "else:\n", 
        "    plt.plot(_ph,np.degrees(np.mod(np.pi/2+(angfunk(ppp_rot.x[1],ppp_rot.x[2],_ph-ppp_rot.x[4])+np.radians(ppp_rot.x[3]-shift)),np.pi))+shift,label='Constant PD')\n", 
        "\n", 
        "if ppp_rot2.x[0]>0:\n", 
        "    plt.plot(_ph,np.degrees(np.mod((angfunk(ppp_rot2.x[1],ppp_rot2.x[2],_ph-ppp_rot2.x[4])+np.radians(ppp_rot2.x[3]-shift)),np.pi))+shift,label='Variable PD')\n", 
        "else:\n", 
        "    plt.plot(_ph,np.degrees(np.mod(np.pi/2+(angfunk(ppp_rot2.x[1],ppp_rot2.x[2],_ph-ppp_rot2.x[4])+np.radians(ppp_rot2.x[3]-shift)),np.pi))+shift,label='Variable PD')\n", 
        "\n", 
        "#plt.ylim(25,75)\n", 
        "plt.ylabel('Polarization Angle')\n", 
        "plt.xlabel('Phase')\n", 
        "plt.legend()\n", 
        "plt.savefig('figures/polar-angle.pdf')"
      ], 
      "id": "raised-bulgaria", 
      "metadata": {}
    }, 
    {
      "source": [
        "# Energy Dependence"
      ], 
      "cell_type": "markdown", 
      "id": "unsigned-recommendation", 
      "metadata": {}
    }, 
    {
      "cell_type": "code", 
      "execution_count": 42, 
      "outputs": [], 
      "source": [
        "pibin=np.clip(((evtlist['PI']-50)//25).astype(int),0,4)\n", 
        "def maxlikeenergy(param):\n", 
        "    return(-np.sum(np.log(1+0.5*(np.tanh(param[2*pibin])*qrot+np.tanh(param[2*pibin+1])*urot))))\n", 
        "def maxlikeenergy2(param):\n", 
        "    return(-np.sum(np.log(1+0.5*(np.tanh(param[pibin])*qrot))))\n"
      ], 
      "id": "indoor-hunger", 
      "metadata": {}
    }, 
    {
      "cell_type": "code", 
      "execution_count": 43, 
      "outputs": [], 
      "source": [
        "angdata=angfunk( ppp_rot.x[1],  ppp_rot.x[2], phdata-ppp_rot.x[4])+np.radians(ppp_rot.x[3])\n", 
        "\n", 
        "sangdata=np.sin(2*angdata)\n", 
        "cangdata=np.cos(2*angdata)\n", 
        "urot=evtlist['U']*cangdata-evtlist['Q']*sangdata\n", 
        "qrot=evtlist['U']*sangdata+evtlist['Q']*cangdata\n", 
        "um,qm=np.mean(urot/moddata),np.mean(qrot/moddata)\n", 
        "print(um,qm,np.hypot(um,qm),np.std(qrot/moddata)/len(qrot)**0.5,np.std(qrot)/np.mean(moddata)/len(qrot)**0.5)\n", 
        "urot*=moddata\n", 
        "qrot*=moddata"
      ], 
      "id": "complimentary-inside", 
      "metadata": {}
    }, 
    {
      "cell_type": "code", 
      "execution_count": 44, 
      "outputs": [], 
      "source": [
        "ppp_spec_deg=minimize(maxlikeenergy2,np.random.uniform(size=5)-0.5)"
      ], 
      "id": "covered-medication", 
      "metadata": {}
    }, 
    {
      "cell_type": "code", 
      "execution_count": 45, 
      "outputs": [], 
      "source": [
        "ppp_spec_qu=minimize(maxlikeenergy,np.random.uniform(size=10)-0.5)"
      ], 
      "id": "worse-xerox", 
      "metadata": {}
    }, 
    {
      "cell_type": "code", 
      "execution_count": 46, 
      "outputs": [], 
      "source": [
        "plt.figure(figsize=(6,6))\n", 
        "plt.errorbar(np.tanh(ppp_spec_qu.x[::2]),np.tanh(ppp_spec_qu.x[1::2]),yerr=np.diag(ppp_spec_qu.hess_inv)[1::2]**0.5/np.cosh(ppp_spec_qu.x[1::2])**2,xerr=np.diag(ppp_spec_qu.hess_inv)[::2]**0.5/np.cosh(ppp_spec_qu.x[::2])**2,fmt='.')\n", 
        "for _xx,_yy,_tt in zip(np.tanh(ppp_spec_qu.x[::2]),np.tanh(ppp_spec_qu.x[1::2]),['2.5-3','3-4','4-5','5-6','6-8']):\n", 
        "    plt.text(_xx-3e-2,_yy+1e-2,_tt)\n", 
        "#plt.xlim(-0.29,0.29)\n", 
        "#plt.ylim(-0.29,0.29)\n", 
        "plt.xlabel('Q/I')\n", 
        "plt.ylabel('U/I')"
      ], 
      "id": "champion-narrow", 
      "metadata": {}
    }, 
    {
      "cell_type": "code", 
      "execution_count": 47, 
      "outputs": [], 
      "source": [
        "plt.figure(figsize=(6,6))\n", 
        "_xxx=[2.5,3.5,4.5,5.5,7]\n", 
        "plt.errorbar(_xxx,np.tanh(ppp_spec_deg.x),yerr=np.diag(ppp_spec_deg.hess_inv)**0.5/np.cosh(ppp_spec_deg.x)**2,fmt='.')\n", 
        "plt.xlabel('Energy [keV]')\n", 
        "plt.ylabel('Q/I')"
      ], 
      "id": "american-korea", 
      "metadata": {}
    }, 
    {
      "source": [
        "# Bin optimization"
      ], 
      "cell_type": "markdown", 
      "id": "adaptive-deputy", 
      "metadata": {
        "tags": []
      }
    }, 
    {
      "cell_type": "code", 
      "execution_count": 48, 
      "outputs": [], 
      "source": [
        "_ii=np.argsort(evtlist['PI'])\n", 
        "pisort=evtlist['PI'][_ii]\n", 
        "modsort=moddata[_ii]"
      ], 
      "id": "superb-jumping", 
      "metadata": {}
    }, 
    {
      "cell_type": "code", 
      "execution_count": 49, 
      "outputs": [], 
      "source": [
        "modcum=np.cumsum(modsort)\n", 
        "def mdpfunk(imin,imax):\n", 
        "    return(4.29/((modcum[imax]-modcum[imin])/(imax-imin))/(imax-imin)**0.5)\n", 
        "def mdppi(pimin,pimax):\n", 
        "    _imin=np.interp(pimin,pisort,range(len(pisort))).astype(int)\n", 
        "    _imax=np.interp(pimax,pisort,range(len(pisort))).astype(int)\n", 
        "\n", 
        "    return mdpfunk(_imin,_imax)"
      ], 
      "id": "subtle-sharing", 
      "metadata": {}
    }, 
    {
      "cell_type": "code", 
      "execution_count": 50, 
      "outputs": [], 
      "source": [
        "modscum=np.cumsum(modsort**2)"
      ], 
      "id": "removed-brown", 
      "metadata": {}
    }, 
    {
      "cell_type": "code", 
      "execution_count": 51, 
      "outputs": [], 
      "source": [
        "plist=np.interp(np.linspace(0,1,70),modscum/modscum[-1],np.arange(len(modcum))).astype(int)\n", 
        "plist"
      ], 
      "id": "wrong-theory", 
      "metadata": {}
    }, 
    {
      "cell_type": "code", 
      "execution_count": 52, 
      "outputs": [], 
      "source": [
        "for ii in range(len(plist)-1):\n", 
        "    _imin=plist[ii]\n", 
        "    _imax=plist[ii+1]\n", 
        "    _pmin,_pmax=pisort[_imin],pisort[_imax]\n", 
        "    # print(ii,_pmin,_pmax,_pmin/25,_pmax/25,mdpfunk(plist[ii],plist[ii+1]))"
      ], 
      "id": "allied-gibraltar", 
      "metadata": {}
    }, 
    {
      "cell_type": "code", 
      "execution_count": 53, 
      "outputs": [], 
      "source": [
        "pilist=np.concatenate((pisort[plist[0:65:5]],pisort[plist[65:]]))\n", 
        "elist=pilist/25"
      ], 
      "id": "anticipated-surge", 
      "metadata": {}
    }, 
    {
      "cell_type": "code", 
      "execution_count": 54, 
      "outputs": [], 
      "source": [
        "pibin=np.digitize(evtlist['PI'],pilist)-1\n", 
        "pibin.min(),pibin.max()"
      ], 
      "id": "packed-novelty", 
      "metadata": {}
    }, 
    {
      "cell_type": "code", 
      "execution_count": 55, 
      "outputs": [], 
      "source": [
        "ppp_spec_deg=minimize(maxlikeenergy2,np.random.uniform(size=pibin.max()+1)-0.5)"
      ], 
      "id": "revised-tension", 
      "metadata": {}
    }, 
    {
      "cell_type": "code", 
      "execution_count": 56, 
      "outputs": [], 
      "source": [
        "ppp_spec_qu=minimize(maxlikeenergy,np.random.uniform(size=2*pibin.max()+2)-0.5)"
      ], 
      "id": "afraid-danger", 
      "metadata": {}
    }, 
    {
      "cell_type": "code", 
      "execution_count": 57, 
      "outputs": [], 
      "source": [
        "plt.figure(figsize=(7,6))\n", 
        "plt.errorbar(np.tanh(ppp_spec_qu.x[::2]),np.tanh(ppp_spec_qu.x[1::2]),yerr=np.diag(ppp_spec_qu.hess_inv)[1::2]**0.5/np.cosh(ppp_spec_qu.x[1::2])**2,xerr=np.diag(ppp_spec_qu.hess_inv)[::2]**0.5/np.cosh(ppp_spec_qu.x[::2])**2,fmt='.')\n", 
        "for _xx,_yy,_e0,_e1 in zip(np.tanh(ppp_spec_qu.x[::2]),np.tanh(ppp_spec_qu.x[1::2]),elist[:-1],elist[1:]):\n", 
        "    plt.text(_xx-3e-2,_yy+1e-2,'%.1f-%.1f' % (_e0,_e1))\n", 
        "#plt.xlim(-0.4,0.3)\n", 
        "#plt.ylim(-0.3,0.3)\n", 
        "plt.xlabel('Q/I')\n", 
        "plt.ylabel('U/I')\n", 
        "plt.savefig('figures/QU-energy_v1.pdf')"
      ], 
      "id": "appreciated-belly", 
      "metadata": {}
    }, 
    {
      "cell_type": "code", 
      "execution_count": 58, 
      "outputs": [], 
      "source": [
        "plt.figure(figsize=(6,6))\n", 
        "\n", 
        "plt.errorbar(0.5*(elist[:-1]+elist[1:]),np.tanh(ppp_spec_deg.x)[:-1],\n", 
        "             yerr=(np.diag(ppp_spec_deg.hess_inv)**0.5/np.cosh(ppp_spec_deg.x)**2)[:-1],\n", 
        "             xerr=0.5*(-elist[:-1]+elist[1:]),fmt='.')\n", 
        "plt.xlim(2,8)\n", 
        "\n", 
        "plt.xlabel('Energy [keV]')\n", 
        "plt.ylabel('Q/I')\n", 
        "plt.savefig('figures/polar-energy.pdf')\n", 
        "np.save('output/qoveri',[0.5*(elist[:-1]+elist[1:]),np.tanh(ppp_spec_deg.x)[:-1],\n", 
        "             (np.diag(ppp_spec_deg.hess_inv)**0.5/np.cosh(ppp_spec_deg.x)**2)[:-1],\n", 
        "             0.5*(-elist[:-1]+elist[1:])])"
      ], 
      "id": "copyrighted-scenario", 
      "metadata": {}
    }, 
    {
      "cell_type": "code", 
      "execution_count": 59, 
      "outputs": [], 
      "source": [
        "with open('output/poldeg_energy.dat','w') as f:\n", 
        "    print('#     Emid        Q/I       EQ/I   DeltaE/2')\n", 
        "    f.write('#     Emid        Q/I       EQ/I   DeltaE/2\\n')\n", 
        "\n", 
        "    for r in zip(0.5*(elist[:-1]+elist[1:]),np.tanh(ppp_spec_deg.x)[:-1],\n", 
        "                 (np.diag(ppp_spec_deg.hess_inv)**0.5/np.cosh(ppp_spec_deg.x)**2)[:-1],\n", 
        "                 0.5*(-elist[:-1]+elist[1:])):\n", 
        "        print(('%10g '*4) % r)\n", 
        "        f.write((('%10g '*4) % r)+'\\n')"
      ], 
      "id": "prospective-funeral", 
      "metadata": {}
    }, 
    {
      "cell_type": "code", 
      "execution_count": 60, 
      "outputs": [], 
      "source": [
        "with open('output/QU_energy.dat','w') as f:\n", 
        "    print('#    Emid         Q/I       EQ/I        U/I       EU/I   DeltaE/2')\n", 
        "    f.write('#    Emid         Q/I       EQ/I        U/I       EU/I   DeltaE/2\\n')\n", 
        "\n", 
        "    for r in zip(0.5*(elist[:-1]+elist[1:]),np.tanh(ppp_spec_qu.x[::2]),np.diag(ppp_spec_qu.hess_inv)[::2]**0.5/np.cosh(ppp_spec_qu.x[::2])**2,\n", 
        "                 np.tanh(ppp_spec_qu.x[1::2]),np.diag(ppp_spec_qu.hess_inv)[1::2]**0.5/np.cosh(ppp_spec_qu.x[1::2])**2,\n", 
        "                0.5*(-elist[:-1]+elist[1:])):\n", 
        "        print(('%10g '*6) % r)\n", 
        "        f.write((('%10g '*6) % r)+'\\n')"
      ], 
      "id": "included-transportation", 
      "metadata": {}
    }, 
    {
      "cell_type": "code", 
      "execution_count": 61, 
      "outputs": [], 
      "source": [
        "plt.errorbar(0.5*(elist[:-1]+elist[1:]),np.tanh(ppp_spec_qu.x)[:-2:2],\n", 
        "             yerr=(np.diag(ppp_spec_qu.hess_inv)**0.5/np.cosh(ppp_spec_qu.x)**2)[:-2:2],\n", 
        "             xerr=0.5*(-elist[:-1]+elist[1:]),fmt='.',label=r'$Q/I$')\n", 
        "plt.errorbar(0.5*(elist[:-1]+elist[1:]),np.tanh(ppp_spec_qu.x)[1:-1:2],\n", 
        "             yerr=(np.diag(ppp_spec_qu.hess_inv)**0.5/np.cosh(ppp_spec_qu.x)**2)[1:-1:2],\n", 
        "             xerr=0.5*(-elist[:-1]+elist[1:]),fmt='.',label=r'$U/I$')\n", 
        "plt.legend()\n", 
        "plt.xlabel('Energy [keV]')\n", 
        "plt.ylabel(r'$Q/I, U/I$')\n", 
        "plt.savefig('figures/QU-energy_v2.pdf')"
      ], 
      "id": "operating-harassment", 
      "metadata": {}
    }, 
    {
      "source": [
        "# Energy Dependence of Phase-Resolved"
      ], 
      "cell_type": "markdown", 
      "id": "nasty-michael", 
      "metadata": {}
    }, 
    {
      "cell_type": "code", 
      "execution_count": 62, 
      "outputs": [], 
      "source": [
        "oklow=evtlist['PI']<=5.5*25\n", 
        "totonl=plt.hist(phdata[oklow],bins=100)\n", 
        "totonh=plt.hist(phdata[~oklow],bins=10)"
      ], 
      "id": "qualified-snapshot", 
      "metadata": {}
    }, 
    {
      "cell_type": "code", 
      "execution_count": 63, 
      "outputs": [], 
      "source": [
        "_ph=np.linspace(0,2,201)\n", 
        "plottwo(0.5*totonl[1][:-1]+0.5*totonl[1][1:],totonl[0],(totonl[0])**0.5,'.')\n", 
        "_ph=np.linspace(0,2,21)\n", 
        "plottwo(0.5*totonh[1][:-1]+0.5*totonh[1][1:],8*totonh[0],8*(totonh[0])**0.5,'.')\n", 
        "\n", 
        "#plt.plot(_ph,cfunk(_ph,*cfit[0]))\n", 
        "plt.ylabel('Counts')\n", 
        "plt.xlabel('Phase')"
      ], 
      "id": "static-australian", 
      "metadata": {}
    }, 
    {
      "cell_type": "code", 
      "execution_count": 64, 
      "outputs": [], 
      "source": [
        "ppp_rot_low=minimize(maxlikerotation2_ok,ppp_rot2.x,method='Nelder-Mead',args=(phdata[oklow],qdata[oklow],udata[oklow]))\n", 
        "ppp_rot_high=minimize(maxlikerotation2_ok,ppp_rot2.x,method='Nelder-Mead',args=(phdata[~oklow],qdata[~oklow],udata[~oklow]))"
      ], 
      "id": "relevant-gazette", 
      "metadata": {}
    }, 
    {
      "cell_type": "code", 
      "execution_count": 65, 
      "outputs": [], 
      "source": [
        "np.save(\"output/totonh.npy\",totonh)\n", 
        "np.save(\"output/totonl.npy\",totonl)\n", 
        "np.save('output/ppp_rot',(ppp_rot2,ppp_rot_low,ppp_rot_high))"
      ], 
      "id": "sixth-month", 
      "metadata": {}
    }, 
    {
      "cell_type": "code", 
      "execution_count": 66, 
      "outputs": [], 
      "source": [
        "_ph=np.linspace(0,2,201)\n", 
        "plottwo((np.arange(len(ppp_phase.x)//2)+0.5)/(len(ppp_phase.x)//2),np.abs(np.tanh(ppp_phase.x[1::2])),ppp_phase_err[1::2]/np.cosh(ppp_phase.x[1::2])**2,'.')\n", 
        "#plt.plot(_ph,cfunk(_ph,*pfit[0])/100)\n", 
        "plt.plot(_ph,np.abs(ppp_rot2.x[0]*(1+ppp_rot2.x[5]*np.cos(2*np.pi*(_ph-ppp_rot2.x[6])))),label='2-8 keV')\n", 
        "plt.plot(_ph,np.abs(ppp_rot_low.x[0]*(1+ppp_rot_low.x[5]*np.cos(2*np.pi*(_ph-ppp_rot_low.x[6])))),label='2-5.5 keV')\n", 
        "plt.plot(_ph,np.abs(ppp_rot_high.x[0]*(1+ppp_rot_high.x[5]*np.cos(2*np.pi*(_ph-ppp_rot_high.x[6])))),label='5.5-8 keV')\n", 
        "plt.ylabel('Polarization Degree')\n", 
        "plt.xlabel('Phase')\n", 
        "#plt.ylim(0.1,0.6)\n", 
        "plt.legend()\n", 
        "plt.savefig('figures/polar-deg-energy.pdf')\n", 
        "print(np.mean(np.abs(np.tanh(ppp_phase.x[1::2]))),np.sum((ppp_phase_err[1::2]/np.cosh(ppp_phase.x[1::2]))**2)**0.5/10)"
      ], 
      "id": "boxed-spain", 
      "metadata": {}
    }, 
    {
      "cell_type": "code", 
      "execution_count": 67, 
      "outputs": [], 
      "source": [
        "shift=0\n", 
        "plottwo((np.arange(len(ppp_phase.x)//2)+0.5)/(len(ppp_phase.x)//2),np.mod(np.degrees(np.where(ppp_phase.x[1::2]>0,0,np.pi*0.5)+ppp_phase.x[::2])-shift,180)+shift,np.degrees(ppp_phase_err[::2]),'.')\n", 
        "_ph=np.linspace(0,2,401)\n", 
        "print('''\n", 
        "Alpha:                      %g\n", 
        "Beta:                       %g\n", 
        "Mean Polarization Fraction: %g\n", 
        "Pole across Line of Sight:  %g\n", 
        "Peak Flux:                  %g\n", 
        "''' % (ppp_rot.x[1]%180,ppp_rot.x[2],np.abs(np.tanh(ppp_rot.x[0])),np.mod(ppp_rot.x[4]+(0 if ppp_rot.x[2]>0 else 0.5),1),\n", 
        "                                                            np.mod(cfit[0][1] if cfit[0][0]>0 else cfit[0][1]-0.5,1)))\n", 
        "\n", 
        "if ppp_rot.x[0]>0:\n", 
        "    plt.plot(_ph,np.degrees(np.mod((angfunk(ppp_rot.x[1],ppp_rot.x[2],_ph-ppp_rot.x[4])+np.radians(ppp_rot.x[3]-shift)),np.pi))+shift,label='2-8 keV')\n", 
        "    plt.plot(_ph,np.degrees(np.mod((angfunk(ppp_rot_low.x[1],ppp_rot_low.x[2],_ph-ppp_rot_low.x[4])+np.radians(ppp_rot_low.x[3]-shift)),np.pi))+shift,label='2-5.5 keV')\n", 
        "    plt.plot(_ph,np.degrees(np.mod((angfunk(ppp_rot_high.x[1],ppp_rot_high.x[2],_ph-ppp_rot_high.x[4])+np.radians(ppp_rot_high.x[3]-shift)),np.pi))+shift,label='5.5-8 keV')\n", 
        "else:\n", 
        "    plt.plot(_ph,np.degrees(np.mod(np.pi/2+(angfunk(ppp_rot.x[1],ppp_rot.x[2],_ph-ppp_rot.x[4])+np.radians(ppp_rot.x[3]-shift)),np.pi))+shift)\n", 
        "\n", 
        "'''if ppp_rot2.x[0]>0:\n", 
        "    plt.plot(_ph,np.degrees(np.mod((angfunk(ppp_rot2.x[1],ppp_rot2.x[2],_ph-ppp_rot2.x[4])+np.radians(ppp_rot2.x[3]-shift)),np.pi))+shift)\n", 
        "else:\n", 
        "    plt.plot(_ph,np.degrees(np.mod(np.pi/2+(angfunk(ppp_rot2.x[1],ppp_rot2.x[2],_ph-ppp_rot2.x[4])+np.radians(ppp_rot2.x[3]-shift)),np.pi))+shift)\n", 
        "    '''\n", 
        "#plt.ylim(25,75)\n", 
        "plt.ylabel('Polarization Angle')\n", 
        "plt.xlabel('Phase')\n", 
        "plt.legend()\n", 
        "plt.savefig('figures/polar-angle-energy.pdf')"
      ], 
      "id": "alleged-gravity", 
      "metadata": {}
    }, 
    {
      "cell_type": "code", 
      "execution_count": 68, 
      "outputs": [], 
      "source": [], 
      "id": "b290d6cc-0c93-4ffc-9de0-ca47f9b1ddec", 
      "metadata": {}
    }, 
    {
      "cell_type": "code", 
      "execution_count": 69, 
      "outputs": [], 
      "source": [], 
      "id": "24cf14f1-f7c9-42ce-87af-eb6b593f6e69", 
      "metadata": {}
    }, 
    {
      "cell_type": "code", 
      "execution_count": 70, 
      "outputs": [], 
      "source": [], 
      "id": "ebb24667-7ee1-44bc-b225-07a3faac5b77", 
      "metadata": {}
    }, 
    {
      "cell_type": "code", 
      "execution_count": 71, 
      "outputs": [], 
      "source": [], 
      "id": "6098d99f-e798-432e-a8f7-780f179692c6", 
      "metadata": {}
    }, 
    {
      "cell_type": "code", 
      "execution_count": 72, 
      "outputs": [], 
      "source": [], 
      "id": "14a183a1-a3e8-45a3-a3ba-6961c17eb504", 
      "metadata": {}
    }, 
    {
      "cell_type": "code", 
      "execution_count": 73, 
      "outputs": [], 
      "source": [], 
      "id": "e940e78f-1b82-4bee-9bfe-2e3944fa28d8", 
      "metadata": {}
    }, 
    {
      "cell_type": "code", 
      "execution_count": 74, 
      "outputs": [], 
      "source": [], 
      "id": "1a58b935-953b-4741-984c-67a3abab9434", 
      "metadata": {}
    }, 
    {
      "cell_type": "code", 
      "execution_count": 75, 
      "outputs": [], 
      "source": [], 
      "id": "c23462cd-9b08-436d-b753-b635120ce332", 
      "metadata": {}
    }
  ], 
  "metadata": {
    "kernelspec": {
      "display_name": "Python 3 (ipykernel)", 
      "name": "python3", 
      "language": "python"
    }, 
    "language_info": {
      "mimetype": "text/x-python", 
      "nbconvert_exporter": "python", 
      "name": "python", 
      "file_extension": ".py", 
      "version": "3.8.12", 
      "pygments_lexer": "ipython3", 
      "codemirror_mode": {
        "version": 3, 
        "name": "ipython"
      }
    }
  }
}