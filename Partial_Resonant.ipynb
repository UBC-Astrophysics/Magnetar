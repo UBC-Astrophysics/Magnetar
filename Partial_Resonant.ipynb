{
  "nbformat": 4,
  "nbformat_minor": 0,
  "metadata": {
    "kernelspec": {
      "display_name": "Python 3",
      "language": "python",
      "name": "python3"
    },
    "language_info": {
      "codemirror_mode": {
        "name": "ipython",
        "version": 3
      },
      "file_extension": ".py",
      "mimetype": "text/x-python",
      "name": "python",
      "nbconvert_exporter": "python",
      "pygments_lexer": "ipython3",
      "version": "3.7.3"
    },
    "colab": {
      "name": "Partial-Resonant.ipynb",
      "provenance": [],
      "toc_visible": true,
      "include_colab_link": true
    }
  },
  "cells": [
    {
      "cell_type": "markdown",
      "metadata": {
        "id": "view-in-github",
        "colab_type": "text"
      },
      "source": [
        "<a href=\"https://colab.research.google.com/github/UBC-Astrophysics/QEDSurface/blob/master/magnetar.py/Partial_Resonant.ipynb\" target=\"_parent\"><img src=\"https://colab.research.google.com/assets/colab-badge.svg\" alt=\"Open In Colab\"/></a>"
      ]
    },
    {
      "cell_type": "markdown",
      "metadata": {
        "id": "-aaeS-l7Z2aa",
        "colab_type": "text"
      },
      "source": [
        "# Get the entire repository"
      ]
    },
    {
      "cell_type": "code",
      "metadata": {
        "id": "D05Iw73nZvkG",
        "colab_type": "code",
        "colab": {
          "base_uri": "https://localhost:8080/",
          "height": 34
        },
        "outputId": "3c546a8d-53e0-477c-bef3-54c64dc85eaa"
      },
      "source": [
        "# Get the entire archive (maybe you already have it)\n",
        "! git clone https://github.com/UBC-Astrophysics/QEDSurface.git\n"
      ],
      "execution_count": 1,
      "outputs": [
        {
          "output_type": "stream",
          "text": [
            "fatal: destination path 'QEDSurface' already exists and is not an empty directory.\n"
          ],
          "name": "stdout"
        }
      ]
    },
    {
      "cell_type": "code",
      "metadata": {
        "id": "OYsAvNxMZupI",
        "colab_type": "code",
        "colab": {}
      },
      "source": [
        "# change the directory if you have to\n",
        "import os\n",
        "os.chdir('QEDSurface/magnetar.py')"
      ],
      "execution_count": 2,
      "outputs": []
    },
    {
      "cell_type": "code",
      "metadata": {
        "id": "mo7komDsaEzb",
        "colab_type": "code",
        "colab": {
          "base_uri": "https://localhost:8080/",
          "height": 34
        },
        "outputId": "2bd5dad7-bce0-40ff-ac8a-715265e3fb79"
      },
      "source": [
        "#  update just in case\n",
        "! git pull"
      ],
      "execution_count": 3,
      "outputs": [
        {
          "output_type": "stream",
          "text": [
            "Already up to date.\n"
          ],
          "name": "stdout"
        }
      ]
    },
    {
      "cell_type": "markdown",
      "metadata": {
        "id": "oiTNvrjrZ-et",
        "colab_type": "text"
      },
      "source": [
        "# Load the libraries"
      ]
    },
    {
      "cell_type": "code",
      "metadata": {
        "id": "S3V4Fd2oZXyX",
        "colab_type": "code",
        "colab": {}
      },
      "source": [
        "import numba\n",
        "import numpy as np\n",
        "import matplotlib.pyplot as plt\n",
        "import Magnetar\n",
        "import glob"
      ],
      "execution_count": 4,
      "outputs": []
    },
    {
      "cell_type": "markdown",
      "metadata": {
        "id": "HoxrzSIIcUO6",
        "colab_type": "text"
      },
      "source": [
        "# Load the blackbody surface map"
      ]
    },
    {
      "cell_type": "code",
      "metadata": {
        "scrolled": true,
        "id": "ZN5K1sBGZXy9",
        "colab_type": "code",
        "colab": {}
      },
      "source": [
        "allsurface=Magnetar.surface_model().loaddata(glob.glob('Sample_Atmospheres/B14.11T6.57_h/*.int'))\n",
        "aa=allsurface.mcolat\n",
        "# copy the front surface to the back of the star\n",
        "# add the angles\n",
        "allsurface.mcolat=aa+[180-i for i in aa[::-1]]\n",
        "# add the patches\n",
        "allsurface.patches=allsurface.patches+allsurface.patches[::-1]\n"
      ],
      "execution_count": 5,
      "outputs": []
    },
    {
      "cell_type": "markdown",
      "metadata": {
        "id": "PCEj5ub-cxDh",
        "colab_type": "text"
      },
      "source": [
        "# Partial Resonant Scattering"
      ]
    },
    {
      "cell_type": "code",
      "metadata": {
        "id": "xRMtqIE8c7Hj",
        "colab_type": "code",
        "colab": {}
      },
      "source": [
        "\n",
        "for i,m in enumerate(allsurface.patches):\n",
        "  allsurface.patches[i]=Magnetar.partial_res_comptonization(m,0.151,150)"
      ],
      "execution_count": 6,
      "outputs": []
    },
    {
      "cell_type": "markdown",
      "metadata": {
        "id": "whTcybBUd0Y-",
        "colab_type": "text"
      },
      "source": [
        "# Work with a single orientation"
      ]
    },
    {
      "cell_type": "markdown",
      "metadata": {
        "id": "aLTQc87New7U",
        "colab_type": "text"
      },
      "source": [
        "## Load the propagation file (pfield)"
      ]
    },
    {
      "cell_type": "code",
      "metadata": {
        "id": "RdYbJr1Qd5U2",
        "colab_type": "code",
        "colab": {}
      },
      "source": [
        "pfield_test=Magnetar.pfield().loaddata('Sample_Pfields/pfield_models_QED/pfield_5keV_30deg')"
      ],
      "execution_count": 7,
      "outputs": []
    },
    {
      "cell_type": "code",
      "metadata": {
        "id": "Y46eXB-pd5IG",
        "colab_type": "code",
        "colab": {
          "base_uri": "https://localhost:8080/",
          "height": 34
        },
        "outputId": "492853c4-6d8c-4ac4-e522-010947ad5f21"
      },
      "source": [
        "# Calculate the intensity across the surface at 1.65426 keV as observed\n",
        "pfield_test.recalculate(1.65426,allsurface,gtt=(1-2*2.0/10.0)**0.5)"
      ],
      "execution_count": 8,
      "outputs": [
        {
          "output_type": "execute_result",
          "data": {
            "text/plain": [
              "(910.3690804970639, -776.8877630789874)"
            ]
          },
          "metadata": {
            "tags": []
          },
          "execution_count": 8
        }
      ]
    },
    {
      "cell_type": "code",
      "metadata": {
        "id": "LvC96_a1d48b",
        "colab_type": "code",
        "colab": {
          "base_uri": "https://localhost:8080/",
          "height": 54
        },
        "outputId": "71281285-7036-4936-a162-0412a22e2231"
      },
      "source": [
        "print(allsurface.mcolat)\n",
        "# print(pfield_test.qmean/pfield_test.imean)"
      ],
      "execution_count": 9,
      "outputs": [
        {
          "output_type": "stream",
          "text": [
            "[2.0, 9.0, 18.195, 31.788, 41.41, 49.458, 56.633, 63.256, 69.513, 75.522, 81.373, 98.627, 104.478, 110.487, 116.744, 123.36699999999999, 130.542, 138.59, 148.212, 161.805, 171.0, 178.0]\n"
          ],
          "name": "stdout"
        }
      ]
    },
    {
      "cell_type": "markdown",
      "metadata": {
        "id": "tAOZqhIkeotG",
        "colab_type": "text"
      },
      "source": [
        "## Calculate intensities across the image"
      ]
    },
    {
      "cell_type": "code",
      "metadata": {
        "id": "5klU1WfBd4lV",
        "colab_type": "code",
        "colab": {}
      },
      "source": [
        "# calculate the mean intensity over the surface for a range of photon energies\n",
        "pfield_test.calcvalues(allsurface,gtt=(1-2*2.0/14.0)**0.5)"
      ],
      "execution_count": 10,
      "outputs": []
    },
    {
      "cell_type": "markdown",
      "metadata": {
        "id": "U5NcEicbebpk",
        "colab_type": "text"
      },
      "source": [
        "## Print the data arrays"
      ]
    },
    {
      "cell_type": "code",
      "metadata": {
        "id": "EqMuHXo7eWZ0",
        "colab_type": "code",
        "colab": {
          "base_uri": "https://localhost:8080/",
          "height": 1000
        },
        "outputId": "d63beae0-a8e3-46f5-8256-c92e42d89fe0"
      },
      "source": [
        "print(pfield_test)"
      ],
      "execution_count": 11,
      "outputs": [
        {
          "output_type": "stream",
          "text": [
            "#   Phi[rad]  Energy[keV]            I          Q/I\n",
            "    0.523599     0.316228      711.429    -0.848797\n",
            "    0.523599     0.331285      717.139    -0.846407\n",
            "    0.523599      0.34706      719.785    -0.843749\n",
            "    0.523599     0.363585       719.76    -0.840942\n",
            "    0.523599     0.380897      717.445    -0.838027\n",
            "    0.523599     0.399034      713.179    -0.834884\n",
            "    0.523599     0.418034      707.385    -0.831198\n",
            "    0.523599      0.43794      700.691    -0.826238\n",
            "    0.523599     0.458792      693.991    -0.819848\n",
            "    0.523599     0.480638      688.518    -0.810262\n",
            "    0.523599     0.503524      685.357    -0.792658\n",
            "    0.523599       0.5275      685.704    -0.775625\n",
            "    0.523599     0.552617      690.762     -0.82276\n",
            "    0.523599      0.57893      701.633    -0.825317\n",
            "    0.523599     0.606496       719.61    -0.822118\n",
            "    0.523599     0.635375      745.294    -0.823103\n",
            "    0.523599     0.665629      778.794    -0.822648\n",
            "    0.523599     0.697324      818.966    -0.823797\n",
            "    0.523599     0.730527      864.053    -0.834907\n",
            "    0.523599     0.765312      912.174    -0.836363\n",
            "    0.523599     0.801753      961.893    -0.842387\n",
            "    0.523599     0.839929      1011.39    -0.846318\n",
            "    0.523599     0.879923      1059.42     -0.85292\n",
            "    0.523599     0.921821      1105.37    -0.858493\n",
            "    0.523599     0.965714      1148.22    -0.861844\n",
            "    0.523599       1.0117      1186.71    -0.863942\n",
            "    0.523599      1.05987      1219.57    -0.865064\n",
            "    0.523599      1.11034      1245.95     -0.86562\n",
            "    0.523599      1.16321      1265.87      -0.8657\n",
            "    0.523599      1.21859      1279.71     -0.86542\n",
            "    0.523599      1.27662      1287.81    -0.864857\n",
            "    0.523599       1.3374      1290.37    -0.863939\n",
            "    0.523599      1.40109      1287.58    -0.862607\n",
            "    0.523599       1.4678      1279.52    -0.861178\n",
            "    0.523599      1.53769       1266.3    -0.859648\n",
            "    0.523599      1.61091      1247.98    -0.858005\n",
            "    0.523599      1.68761      1224.66    -0.856228\n",
            "    0.523599      1.76797      1196.51    -0.854294\n",
            "    0.523599      1.85215      1163.77    -0.852179\n",
            "    0.523599      1.94034      1126.79    -0.849869\n",
            "    0.523599      2.03274      1086.14    -0.847372\n",
            "    0.523599      2.12953      1042.62    -0.844746\n",
            "    0.523599      2.23092      997.124    -0.842085\n",
            "    0.523599      2.33715      949.826    -0.839334\n",
            "    0.523599      2.44844      900.709    -0.836391\n",
            "    0.523599      2.56502      849.848    -0.833152\n",
            "    0.523599      2.68716      797.408    -0.829507\n",
            "    0.523599      2.81511      743.659    -0.825336\n",
            "    0.523599      2.94915      688.972     -0.82057\n",
            "    0.523599      3.08958      633.828    -0.815109\n",
            "    0.523599      3.23669      578.817    -0.808844\n",
            "    0.523599      3.39081      524.624    -0.801717\n",
            "    0.523599      3.55226      472.012     -0.79372\n",
            "    0.523599      3.72141      421.776    -0.784921\n",
            "    0.523599       3.8986      374.628    -0.775471\n",
            "    0.523599      4.08424      330.968    -0.765466\n",
            "    0.523599      4.27871      291.007    -0.754996\n",
            "    0.523599      4.48245      254.844    -0.744194\n",
            "    0.523599      4.69588      222.462    -0.733227\n",
            "    0.523599      4.91948      193.724    -0.722264\n",
            "    0.523599      5.15372      168.378     -0.71142\n",
            "    0.523599      5.39912      146.079    -0.700687\n",
            "    0.523599      5.65621      126.431    -0.689873\n",
            "    0.523599      5.92553      109.071    -0.678693\n",
            "    0.523599      6.20768      93.7277    -0.666915\n",
            "    0.523599      6.50326      80.1968    -0.654378\n",
            "    0.523599      6.81292      68.3198    -0.641019\n",
            "    0.523599      7.13732      57.9672    -0.626899\n",
            "    0.523599      7.47717      49.0281    -0.612263\n",
            "    0.523599       7.8332       41.407    -0.597659\n",
            "    0.523599      8.20619      34.9443    -0.583317\n",
            "    0.523599      8.59693      29.4502    -0.569006\n",
            "    0.523599      9.00628      24.7759    -0.554556\n",
            "    0.523599      9.43512      20.8187    -0.540158\n",
            "    0.523599      9.88438      17.4756    -0.525853\n",
            "    0.523599       10.355      14.6528     -0.51159\n",
            "    0.523599      10.8481      12.2722    -0.497355\n",
            "    0.523599      11.3646      10.2685    -0.483194\n",
            "    0.523599      11.9058      8.58635    -0.469211\n",
            "    0.523599      12.4727      7.17688     -0.45549\n",
            "    0.523599      13.0666      5.99756      -0.4421\n",
            "    0.523599      13.6887      5.01191    -0.429096\n",
            "    0.523599      14.3405      4.18838    -0.416491\n",
            "    0.523599      15.0234      3.50046     -0.40429\n",
            "    0.523599      15.7387      2.92601    -0.392508\n",
            "    0.523599      16.4881      2.44644    -0.381128\n",
            "    0.523599      17.2732      2.04539    -0.370071\n",
            "    0.523599      18.0957      1.70985    -0.359289\n",
            "    0.523599      18.9574       1.4291    -0.348758\n",
            "    0.523599        19.86       1.1943    -0.338491\n",
            "    0.523599      20.8057     0.998064    -0.328523\n",
            "    0.523599      21.7964     0.834073     -0.31885\n",
            "    0.523599      22.8342     0.697028    -0.309464\n",
            "    0.523599      23.9215     0.582507    -0.300361\n",
            "    0.523599      25.0605     0.486794    -0.291523\n",
            "    0.523599      26.2538     0.406791     -0.28293\n",
            "    0.523599      27.5039     0.339933    -0.274589\n",
            "    0.523599      28.8135     0.284062    -0.266494\n",
            "    0.523599      30.1855     0.237372    -0.258638\n",
            "    0.523599      31.6228     0.198356    -0.251014\n",
            "\n"
          ],
          "name": "stdout"
        }
      ]
    },
    {
      "cell_type": "markdown",
      "metadata": {
        "id": "Lb8YTdhcdfsf",
        "colab_type": "text"
      },
      "source": [
        "# Let's do some plots"
      ]
    },
    {
      "cell_type": "code",
      "metadata": {
        "id": "95M_TAb8ZX0Y",
        "colab_type": "code",
        "colab": {}
      },
      "source": [
        "# load the data file\n",
        "datae,dataf=np.loadtxt('4U_0142+614.dat',unpack=True,usecols=(0,1))\n"
      ],
      "execution_count": 12,
      "outputs": []
    },
    {
      "cell_type": "code",
      "metadata": {
        "id": "kmFUFNj0ZX0z",
        "colab_type": "code",
        "colab": {}
      },
      "source": [
        "# get the mean intensities and energy bins for the orientation\n",
        "ee=pfield_test.ebins\n",
        "ivec=pfield_test.iint\n",
        "qvec=pfield_test.qint\n",
        "# load a file with the interstellar absorption model\n",
        "eabs,sabs=np.loadtxt('tbabs.dat',unpack=True)\n",
        "sabs=sabs\n",
        "ii=np.argsort(eabs)\n",
        "eabs=eabs[ii]\n",
        "sabs=sabs[ii]\n",
        "# absorption cross-section per hydrogen atom in units of 1e-24 cm^2 for our energy bins\n",
        "ssabs=np.interp(ee,eabs,sabs)/(ee)**3*1e-24\n",
        "# the best-fit hydrogen column is 0.52e22 /cm2\n",
        "totabs=np.exp(-0.6e22*ssabs)\n"
      ],
      "execution_count": 13,
      "outputs": []
    },
    {
      "cell_type": "code",
      "metadata": {
        "id": "RkrysxQVZX1H",
        "colab_type": "code",
        "colab": {
          "base_uri": "https://localhost:8080/",
          "height": 563
        },
        "outputId": "56abedcc-6739-4640-81f9-254c2b43fe7d"
      },
      "source": [
        "# plot the model against the data\n",
        "norm=2e4\n",
        "plt.loglog(datae,dataf,'.')\n",
        "plt.loglog(ee,totabs*ivec/norm,'g',label='Atmosphere')\n",
        "plt.loglog(ee,totabs*(ivec/norm+ee**1.3/1.2e4),'r',label='Total')\n",
        "plt.loglog(ee,totabs*0.5*(ivec-qvec)/norm,label='Atmosphere X')\n",
        "plt.loglog(ee,totabs*0.5*(ivec+qvec)/norm,label='Atmosphere O')\n",
        "plt.ylim(1e-3,1e-1)\n",
        "plt.legend()\n",
        "plt.xlabel(r'$E$ [keV]')\n",
        "plt.ylabel(r'$E f_E$')\n",
        "plt.show()\n",
        "plt.plot(ee,(-ee**1.3/1.2e4/3+qvec/norm)/(ivec/norm+ee**1.3/1.2e4),'r')\n",
        "plt.plot(ee,qvec/ivec,'g')\n",
        "plt.axhline(y=-0.33,c='k')\n",
        "plt.axhline(y=-1,c='k')\n",
        "plt.xscale(\"log\")\n",
        "plt.ylim(-1.1,0.1)\n",
        "plt.xlabel(r'$E$ [keV]')\n",
        "plt.ylabel(r'$Q/I$')\n",
        "plt.show()\n",
        "\n"
      ],
      "execution_count": 14,
      "outputs": [
        {
          "output_type": "display_data",
          "data": {
            "image/png": "[encoded data removed]",
            "text/plain": [
              "<Figure size 432x288 with 1 Axes>"
            ]
          },
          "metadata": {
            "tags": [],
            "needs_background": "light"
          }
        },
        {
          "output_type": "display_data",
          "data": {
            "image/png": "[encoded data removed]",
            "text/plain": [
              "<Figure size 432x288 with 1 Axes>"
            ]
          },
          "metadata": {
            "tags": [],
            "needs_background": "light"
          }
        }
      ]
    },
    {
      "cell_type": "markdown",
      "metadata": {
        "id": "GPLWoqIrpQhh",
        "colab_type": "text"
      },
      "source": [
        "# Work with all orientations\n",
        "\n",
        "\n"
      ]
    },
    {
      "cell_type": "markdown",
      "metadata": {
        "id": "v84Gj9XqpU4U",
        "colab_type": "text"
      },
      "source": [
        "## Load the orientation files"
      ]
    },
    {
      "cell_type": "code",
      "metadata": {
        "id": "Ucm5t6uupcu5",
        "colab_type": "code",
        "colab": {}
      },
      "source": [
        "pfieldarray_test=Magnetar.pfield_array().loaddata(glob.glob('Sample_Pfields/pfield_models_QED/*'))"
      ],
      "execution_count": 15,
      "outputs": []
    },
    {
      "cell_type": "markdown",
      "metadata": {
        "id": "M_eeYyyLpg2z",
        "colab_type": "text"
      },
      "source": [
        "## Calculate the mean intensities for all orientations and energies"
      ]
    },
    {
      "cell_type": "code",
      "metadata": {
        "id": "FnC8qNfcpj16",
        "colab_type": "code",
        "colab": {}
      },
      "source": [
        "pfieldarray_test.calcvalues(allsurface,gtt=(1-2*2.0/14.0)**0.5)"
      ],
      "execution_count": 16,
      "outputs": []
    },
    {
      "cell_type": "markdown",
      "metadata": {
        "id": "1WVtJTdqpl0S",
        "colab_type": "text"
      },
      "source": [
        "## Print the data arrays"
      ]
    },
    {
      "cell_type": "code",
      "metadata": {
        "id": "oPLEB97-prLg",
        "colab_type": "code",
        "colab": {
          "base_uri": "https://localhost:8080/",
          "height": 1000
        },
        "outputId": "4c1e0245-f85e-457f-fe7b-4c50ea7cde51"
      },
      "source": [
        "print(pfieldarray_test)"
      ],
      "execution_count": 17,
      "outputs": [
        {
          "output_type": "stream",
          "text": [
            "#   Phi[rad]  Energy[keV]            I          Q/I\n",
            "           0     0.316228      1105.71  7.79625e-09\n",
            "           0     0.331285      1134.17  7.83282e-09\n",
            "           0      0.34706      1157.89  7.87022e-09\n",
            "           0     0.363585      1176.49  7.90761e-09\n",
            "           0     0.380897      1189.79   7.9432e-09\n",
            "           0     0.399034      1197.79  7.97433e-09\n",
            "           0     0.418034      1200.96  7.99666e-09\n",
            "           0      0.43794      1199.98  8.00767e-09\n",
            "           0     0.458792      1195.43   8.0072e-09\n",
            "           0     0.480638      1187.81  7.99738e-09\n",
            "           0     0.503524      1177.96  7.97703e-09\n",
            "           0       0.5275       1166.9  7.94011e-09\n",
            "           0     0.552617      1156.45  7.87136e-09\n",
            "           0      0.57893      1148.39  7.74896e-09\n",
            "           0     0.606496      1144.64  7.49897e-09\n",
            "           0     0.635375      1146.81  7.47327e-09\n",
            "           0     0.665629      1157.15  7.68791e-09\n",
            "           0     0.697324       1177.4  7.45678e-09\n",
            "           0     0.730527      1209.91  7.32925e-09\n",
            "           0     0.765312      1255.49  7.22698e-09\n",
            "           0     0.801753      1313.94  7.12244e-09\n",
            "           0     0.839929      1382.87  7.10845e-09\n",
            "           0     0.879923      1459.11  7.11565e-09\n",
            "           0     0.921821       1539.7  7.13031e-09\n",
            "           0     0.965714      1622.15  7.20249e-09\n",
            "           0       1.0117      1703.35  7.25239e-09\n",
            "           0      1.05987      1781.91  7.36865e-09\n",
            "           0      1.11034      1856.56  7.46301e-09\n",
            "           0      1.16321      1925.42  7.53327e-09\n",
            "           0      1.21859      1986.32  7.59254e-09\n",
            "           0      1.27662       2037.3   7.6425e-09\n",
            "           0       1.3374      2077.43  7.68545e-09\n",
            "           0      1.40109      2107.09  7.72164e-09\n",
            "           0       1.4678      2126.92  7.75296e-09\n",
            "           0      1.53769      2137.38  7.78069e-09\n",
            "           0      1.61091       2138.8   7.8033e-09\n",
            "           0      1.68761      2131.41  7.82333e-09\n",
            "           0      1.76797      2115.36  7.84283e-09\n",
            "           0      1.85215       2090.8  7.86192e-09\n",
            "           0      1.94034      2057.86  7.88058e-09\n",
            "           0      2.03274      2016.71  7.89859e-09\n",
            "           0      2.12953      1967.65  7.91561e-09\n",
            "           0      2.23092      1911.14  7.93119e-09\n",
            "           0      2.33715      1847.86  7.94487e-09\n",
            "           0      2.44844      1778.86   7.9563e-09\n",
            "           0      2.56502      1705.66  7.96556e-09\n",
            "           0      2.68716      1629.35  7.97267e-09\n",
            "           0      2.81511      1549.94  7.97675e-09\n",
            "           0      2.94915      1467.47  7.97684e-09\n",
            "           0      3.08958      1382.11  7.97193e-09\n",
            "           0      3.23669       1294.2  7.96083e-09\n",
            "           0      3.39081      1204.27  7.94244e-09\n",
            "           0      3.55226      1113.01  7.91623e-09\n",
            "           0      3.72141      1021.28  7.88102e-09\n",
            "           0       3.8986      930.145  7.83607e-09\n",
            "           0      4.08424      840.804  7.78107e-09\n",
            "           0      4.27871      754.566  7.71634e-09\n",
            "           0      4.48245      672.753  7.64313e-09\n",
            "           0      4.69588      596.389  7.56309e-09\n",
            "           0      4.91948      525.973  7.47708e-09\n",
            "           0      5.15372      461.792  7.38618e-09\n",
            "           0      5.39912      403.941  7.29178e-09\n",
            "           0      5.65621      352.316  7.19546e-09\n",
            "           0      5.92553      306.617  7.09861e-09\n",
            "           0      6.20768       266.36  7.00183e-09\n",
            "           0      6.50326      230.928   6.9043e-09\n",
            "           0      6.81292      199.662  6.80359e-09\n",
            "           0      7.13732      172.019  6.69719e-09\n",
            "           0      7.47717      147.598  6.58337e-09\n",
            "           0       7.8332      126.089  6.46108e-09\n",
            "           0      8.20619      107.254  6.33023e-09\n",
            "           0      8.59693      90.8868  6.19185e-09\n",
            "           0      9.00628      76.8212  6.04953e-09\n",
            "           0      9.43512      64.8671  5.90836e-09\n",
            "           0      9.88438      54.7242  5.76863e-09\n",
            "           0       10.355      46.0921  5.62771e-09\n",
            "           0      10.8481      38.7586  5.48551e-09\n",
            "           0      11.3646      32.5582  5.34403e-09\n",
            "           0      11.9058      27.3202  5.20286e-09\n",
            "           0      12.4727      22.8988  5.06156e-09\n",
            "           0      13.0666      19.1721  4.92018e-09\n",
            "           0      13.6887      16.0382  4.77953e-09\n",
            "           0      14.3405      13.4093  4.64081e-09\n",
            "           0      15.0234      11.2075  4.50482e-09\n",
            "           0      15.7387      9.36616  4.37236e-09\n",
            "           0      16.4881      7.82736  4.24387e-09\n",
            "           0      17.2732      6.54172  4.11942e-09\n",
            "           0      18.0957      5.46781  3.99912e-09\n",
            "           0      18.9574      4.57079  3.88295e-09\n",
            "           0        19.86      3.82106  3.77039e-09\n",
            "           0      20.8057      3.19406  3.66084e-09\n",
            "           0      21.7964       2.6695  3.55387e-09\n",
            "           0      22.8342      2.23071  3.44934e-09\n",
            "           0      23.9215      1.86389  3.34758e-09\n",
            "           0      25.0605       1.5574  3.24883e-09\n",
            "           0      26.2538       1.3013  3.15302e-09\n",
            "           0      27.5039      1.08732  3.06008e-09\n",
            "           0      28.8135     0.908536  2.96995e-09\n",
            "           0      30.1855     0.759119  2.88235e-09\n",
            "           0      31.6228     0.634256  2.79724e-09\n",
            "#   Phi[rad]  Energy[keV]            I          Q/I\n",
            "   0.0174533     0.316228      1105.79   -0.0341209\n",
            "   0.0174533     0.331285      1134.26   -0.0346776\n",
            "   0.0174533      0.34706      1157.98   -0.0352702\n",
            "   0.0174533     0.363585      1176.58   -0.0358981\n",
            "   0.0174533     0.380897      1189.88   -0.0365514\n",
            "   0.0174533     0.399034      1197.87    -0.037214\n",
            "   0.0174533     0.418034      1201.03   -0.0378508\n",
            "   0.0174533      0.43794      1200.05   -0.0384148\n",
            "   0.0174533     0.458792      1195.48   -0.0388586\n",
            "   0.0174533     0.480638      1187.87   -0.0391367\n",
            "   0.0174533     0.503524      1178.01   -0.0391975\n",
            "   0.0174533       0.5275      1166.97   -0.0389858\n",
            "   0.0174533     0.552617      1156.53   -0.0384352\n",
            "   0.0174533      0.57893      1148.49   -0.0374884\n",
            "   0.0174533     0.606496      1144.75   -0.0360966\n",
            "   0.0174533     0.635375      1146.93   -0.0345697\n",
            "   0.0174533     0.665629      1157.29   -0.0329771\n",
            "   0.0174533     0.697324      1177.55   -0.0308725\n",
            "   0.0174533     0.730527      1210.08   -0.0288428\n",
            "   0.0174533     0.765312      1255.67   -0.0270308\n",
            "   0.0174533     0.801753      1314.13   -0.0256629\n",
            "   0.0174533     0.839929      1383.08   -0.0250893\n",
            "   0.0174533     0.879923      1459.33   -0.0249811\n",
            "   0.0174533     0.921821      1539.94   -0.0250434\n",
            "   0.0174533     0.965714       1622.4   -0.0252423\n",
            "   0.0174533       1.0117       1703.6   -0.0254762\n",
            "   0.0174533      1.05987      1782.17   -0.0265109\n",
            "   0.0174533      1.11034      1856.83   -0.0273974\n",
            "   0.0174533      1.16321      1925.69   -0.0281072\n",
            "   0.0174533      1.21859      1986.59   -0.0287803\n",
            "   0.0174533      1.27662      2037.58   -0.0293948\n",
            "   0.0174533       1.3374      2077.71    -0.029962\n",
            "   0.0174533      1.40109      2107.37    -0.030476\n",
            "   0.0174533       1.4678      2127.19   -0.0309535\n",
            "   0.0174533      1.53769      2137.65   -0.0314074\n",
            "   0.0174533      1.61091      2139.06   -0.0318313\n",
            "   0.0174533      1.68761      2131.66   -0.0322423\n",
            "   0.0174533      1.76797      2115.61   -0.0326563\n",
            "   0.0174533      1.85215      2091.04   -0.0330758\n",
            "   0.0174533      1.94034      2058.09   -0.0335017\n",
            "   0.0174533      2.03274      2016.93    -0.033933\n",
            "   0.0174533      2.12953      1967.86   -0.0343671\n",
            "   0.0174533      2.23092      1911.34   -0.0347995\n",
            "   0.0174533      2.33715      1848.05   -0.0352243\n",
            "   0.0174533      2.44844      1779.04   -0.0356344\n",
            "   0.0174533      2.56502      1705.82   -0.0360232\n",
            "   0.0174533      2.68716       1629.5   -0.0363859\n",
            "   0.0174533      2.81511      1550.08   -0.0367188\n",
            "   0.0174533      2.94915       1467.6   -0.0370178\n",
            "   0.0174533      3.08958      1382.22   -0.0372783\n",
            "   0.0174533      3.23669      1294.31   -0.0374943\n",
            "   0.0174533      3.39081      1204.37   -0.0376607\n",
            "   0.0174533      3.55226       1113.1   -0.0377742\n",
            "   0.0174533      3.72141      1021.36   -0.0378304\n",
            "   0.0174533       3.8986      930.214   -0.0378267\n",
            "   0.0174533      4.08424      840.864   -0.0377626\n",
            "   0.0174533      4.27871      754.618   -0.0376407\n",
            "   0.0174533      4.48245      672.798   -0.0374688\n",
            "   0.0174533      4.69588      596.428   -0.0372559\n",
            "   0.0174533      4.91948      526.006   -0.0370065\n",
            "   0.0174533      5.15372       461.82   -0.0367249\n",
            "   0.0174533      5.39912      403.964   -0.0364159\n",
            "   0.0174533      5.65621      352.336   -0.0360847\n",
            "   0.0174533      5.92553      306.633   -0.0357351\n",
            "   0.0174533      6.20768      266.374    -0.035368\n",
            "   0.0174533      6.50326       230.94   -0.0349788\n",
            "   0.0174533      6.81292      199.672   -0.0345569\n",
            "   0.0174533      7.13732      172.028   -0.0340934\n",
            "   0.0174533      7.47717      147.605    -0.033584\n",
            "   0.0174533       7.8332      126.096   -0.0330268\n",
            "   0.0174533      8.20619      107.259   -0.0324225\n",
            "   0.0174533      8.59693      90.8911   -0.0317745\n",
            "   0.0174533      9.00628      76.8247   -0.0310977\n",
            "   0.0174533      9.43512      64.8701   -0.0304165\n",
            "   0.0174533      9.88438      54.7267    -0.029734\n",
            "   0.0174533       10.355      46.0941   -0.0290394\n",
            "   0.0174533      10.8481      38.7604   -0.0283342\n",
            "   0.0174533      11.3646      32.5596   -0.0276288\n",
            "   0.0174533      11.9058      27.3214     -0.02692\n",
            "   0.0174533      12.4727      22.8998   -0.0262044\n",
            "   0.0174533      13.0666       19.173   -0.0254823\n",
            "   0.0174533      13.6887      16.0389    -0.024759\n",
            "   0.0174533      14.3405      13.4098   -0.0240425\n",
            "   0.0174533      15.0234       11.208   -0.0233385\n",
            "   0.0174533      15.7387      9.36657   -0.0226523\n",
            "   0.0174533      16.4881      7.82771    -0.021987\n",
            "   0.0174533      17.2732        6.542   -0.0213432\n",
            "   0.0174533      18.0957      5.46805   -0.0207215\n",
            "   0.0174533      18.9574      4.57099    -0.020122\n",
            "   0.0174533        19.86      3.82123   -0.0195412\n",
            "   0.0174533      20.8057       3.1942   -0.0189756\n",
            "   0.0174533      21.7964      2.66962   -0.0184223\n",
            "   0.0174533      22.8342      2.23081   -0.0178809\n",
            "   0.0174533      23.9215      1.86398   -0.0173533\n",
            "   0.0174533      25.0605      1.55747   -0.0168413\n",
            "   0.0174533      26.2538      1.30136   -0.0163447\n",
            "   0.0174533      27.5039      1.08737   -0.0158631\n",
            "   0.0174533      28.8135     0.908576   -0.0153961\n",
            "   0.0174533      30.1855     0.759152   -0.0149421\n",
            "   0.0174533      31.6228     0.634284   -0.0145008\n",
            "#   Phi[rad]  Energy[keV]            I          Q/I\n",
            "    0.261799     0.316228      1104.44    -0.842119\n",
            "    0.261799     0.331285      1132.79    -0.841266\n",
            "    0.261799      0.34706      1156.38    -0.840051\n",
            "    0.261799     0.363585      1174.85    -0.838469\n",
            "    0.261799     0.380897         1188    -0.836535\n",
            "    0.261799     0.399034      1195.83    -0.834283\n",
            "    0.261799     0.418034      1198.84    -0.831803\n",
            "    0.261799      0.43794      1197.68    -0.829183\n",
            "    0.261799     0.458792      1192.95    -0.826389\n",
            "    0.261799     0.480638      1185.19    -0.823236\n",
            "    0.261799     0.503524      1175.21    -0.819259\n",
            "    0.261799       0.5275      1164.05    -0.813818\n",
            "    0.261799     0.552617      1153.53    -0.806599\n",
            "    0.261799      0.57893      1145.41    -0.795443\n",
            "    0.261799     0.606496      1141.71    -0.771931\n",
            "    0.261799     0.635375      1144.13    -0.778897\n",
            "    0.261799     0.665629      1154.97    -0.819277\n",
            "    0.261799     0.697324      1175.88    -0.809386\n",
            "    0.261799     0.730527      1209.12    -0.809462\n",
            "    0.261799     0.765312      1255.37    -0.809387\n",
            "    0.261799     0.801753      1314.35    -0.807813\n",
            "    0.261799     0.839929      1383.67     -0.81448\n",
            "    0.261799     0.879923      1460.17    -0.821375\n",
            "    0.261799     0.921821      1540.92     -0.82396\n",
            "    0.261799     0.965714      1623.45    -0.829696\n",
            "    0.261799       1.0117      1704.67    -0.834145\n",
            "    0.261799      1.05987      1783.21    -0.841317\n",
            "    0.261799      1.11034       1857.8    -0.846063\n",
            "    0.261799      1.16321      1926.56    -0.849086\n",
            "    0.261799      1.21859      1987.32    -0.850919\n",
            "    0.261799      1.27662      2038.15    -0.851971\n",
            "    0.261799       1.3374      2078.11    -0.852486\n",
            "    0.261799      1.40109      2107.61    -0.852563\n",
            "    0.261799       1.4678      2127.27    -0.852308\n",
            "    0.261799      1.53769      2137.55    -0.851776\n",
            "    0.261799      1.61091      2138.79    -0.850792\n",
            "    0.261799      1.68761      2131.22    -0.849556\n",
            "    0.261799      1.76797      2114.99    -0.848226\n",
            "    0.261799      1.85215      2090.25    -0.846795\n",
            "    0.261799      1.94034      2057.12    -0.845248\n",
            "    0.261799      2.03274       2015.8    -0.843563\n",
            "    0.261799      2.12953      1966.57    -0.841716\n",
            "    0.261799      2.23092       1909.9    -0.839685\n",
            "    0.261799      2.33715      1846.48    -0.837461\n",
            "    0.261799      2.44844      1777.35    -0.835065\n",
            "    0.261799      2.56502      1704.04    -0.832576\n",
            "    0.261799      2.68716      1627.66    -0.830044\n",
            "    0.261799      2.81511      1548.19    -0.827379\n",
            "    0.261799      2.94915      1465.69    -0.824478\n",
            "    0.261799      3.08958      1380.31    -0.821239\n",
            "    0.261799      3.23669      1292.42    -0.817546\n",
            "    0.261799      3.39081      1202.53    -0.813292\n",
            "    0.261799      3.55226      1111.31     -0.80842\n",
            "    0.261799      3.72141      1019.66    -0.802806\n",
            "    0.261799       3.8986      928.606    -0.796364\n",
            "    0.261799      4.08424       839.36    -0.789056\n",
            "    0.261799      4.27871      753.225    -0.780899\n",
            "    0.261799      4.48245       671.52    -0.772001\n",
            "    0.261799      4.69588      595.263    -0.762506\n",
            "    0.261799      4.91948      524.953    -0.752492\n",
            "    0.261799      5.15372      460.872    -0.742062\n",
            "    0.261799      5.39912      403.116    -0.731363\n",
            "    0.261799      5.65621      351.581    -0.720565\n",
            "    0.261799      5.92553      305.964     -0.70982\n",
            "    0.261799      6.20768      265.783    -0.699204\n",
            "    0.261799      6.50326      230.421    -0.688641\n",
            "    0.261799      6.81292      199.218    -0.677883\n",
            "    0.261799      7.13732      171.633    -0.666662\n",
            "    0.261799      7.47717      147.263    -0.654777\n",
            "    0.261799       7.8332      125.801    -0.642102\n",
            "    0.261799      8.20619      107.007    -0.628624\n",
            "    0.261799      8.59693      90.6757    -0.614451\n",
            "    0.261799      9.00628      76.6416    -0.599959\n",
            "    0.261799      9.43512      64.7147    -0.585645\n",
            "    0.261799      9.88438       54.595    -0.571533\n",
            "    0.261799       10.355      45.9829    -0.557349\n",
            "    0.261799      10.8481      38.6665    -0.543071\n",
            "    0.261799      11.3646      32.4806    -0.528892\n",
            "    0.261799      11.9058      27.2549    -0.514781\n",
            "    0.261799      12.4727       22.844    -0.500698\n",
            "    0.261799      13.0666      19.1262    -0.486649\n",
            "    0.261799      13.6887      15.9998    -0.472706\n",
            "    0.261799      14.3405      13.3771    -0.458975\n",
            "    0.261799      15.0234      11.1807    -0.445526\n",
            "    0.261799      15.7387      9.34372    -0.432429\n",
            "    0.261799      16.4881      7.80861    -0.419721\n",
            "    0.261799      17.2732      6.52604    -0.407409\n",
            "    0.261799      18.0957      5.45471    -0.395502\n",
            "    0.261799      18.9574      4.55983    -0.383998\n",
            "    0.261799        19.86       3.8119     -0.37285\n",
            "    0.261799      20.8057       3.1864    -0.362004\n",
            "    0.261799      21.7964       2.6631    -0.351418\n",
            "    0.261799      22.8342      2.22536     -0.34108\n",
            "    0.261799      23.9215      1.85942    -0.331018\n",
            "    0.261799      25.0605      1.55366    -0.321255\n",
            "    0.261799      26.2538      1.29818    -0.311781\n",
            "    0.261799      27.5039      1.08471     -0.30259\n",
            "    0.261799      28.8135     0.906357    -0.293677\n",
            "    0.261799      30.1855     0.757298    -0.285014\n",
            "    0.261799      31.6228     0.632734    -0.276597\n",
            "#   Phi[rad]  Energy[keV]            I          Q/I\n",
            "    0.523599     0.316228      1100.75    -0.854388\n",
            "    0.523599     0.331285      1128.76    -0.853347\n",
            "    0.523599      0.34706         1152    -0.851922\n",
            "    0.523599     0.363585      1170.09    -0.850108\n",
            "    0.523599     0.380897      1182.84    -0.847925\n",
            "    0.523599     0.399034      1190.27    -0.845415\n",
            "    0.523599     0.418034      1192.86    -0.842684\n",
            "    0.523599      0.43794      1191.28     -0.83984\n",
            "    0.523599     0.458792      1186.13    -0.836862\n",
            "    0.523599     0.480638      1177.97     -0.83357\n",
            "    0.523599     0.503524      1167.66    -0.829494\n",
            "    0.523599       0.5275      1156.31    -0.823981\n",
            "    0.523599     0.552617      1145.78    -0.816702\n",
            "    0.523599      0.57893       1137.9    -0.805409\n",
            "    0.523599     0.606496      1134.73    -0.781245\n",
            "    0.523599     0.635375      1137.97    -0.789112\n",
            "    0.523599     0.665629      1149.91    -0.832021\n",
            "    0.523599     0.697324      1172.15    -0.822223\n",
            "    0.523599     0.730527       1206.8    -0.822795\n",
            "    0.523599     0.765312      1254.37    -0.823082\n",
            "    0.523599     0.801753      1314.42    -0.821694\n",
            "    0.523599     0.839929      1384.47    -0.828604\n",
            "    0.523599     0.879923      1461.41    -0.835707\n",
            "    0.523599     0.921821      1542.39    -0.838311\n",
            "    0.523599     0.965714      1624.99    -0.844115\n",
            "    0.523599       1.0117      1706.15     -0.84851\n",
            "    0.523599      1.05987      1784.54    -0.855396\n",
            "    0.523599      1.11034      1858.88    -0.859931\n",
            "    0.523599      1.16321      1927.32    -0.862782\n",
            "    0.523599      1.21859       1987.7    -0.864442\n",
            "    0.523599      1.27662      2038.11    -0.865334\n",
            "    0.523599       1.3374      2077.63    -0.865694\n",
            "    0.523599      1.40109      2106.69    -0.865626\n",
            "    0.523599       1.4678      2125.93     -0.86523\n",
            "    0.523599      1.53769      2135.79    -0.864561\n",
            "    0.523599      1.61091      2136.61    -0.863441\n",
            "    0.523599      1.68761      2128.62    -0.862071\n",
            "    0.523599      1.76797      2111.98    -0.860604\n",
            "    0.523599      1.85215      2086.84    -0.859032\n",
            "    0.523599      1.94034      2053.32    -0.857341\n",
            "    0.523599      2.03274      2011.62    -0.855507\n",
            "    0.523599      2.12953      1962.05    -0.853506\n",
            "    0.523599      2.23092      1905.06    -0.851317\n",
            "    0.523599      2.33715      1841.37    -0.848932\n",
            "    0.523599      2.44844      1772.03    -0.846374\n",
            "    0.523599      2.56502      1698.55    -0.843729\n",
            "    0.523599      2.68716      1622.06    -0.841045\n",
            "    0.523599      2.81511      1542.54    -0.838232\n",
            "    0.523599      2.94915      1460.04    -0.835187\n",
            "    0.523599      3.08958      1374.73    -0.831806\n",
            "    0.523599      3.23669      1286.96    -0.827971\n",
            "    0.523599      3.39081      1197.23    -0.823574\n",
            "    0.523599      3.55226      1106.23    -0.818559\n",
            "    0.523599      3.72141      1014.83    -0.812797\n",
            "    0.523599       3.8986      924.072    -0.806202\n",
            "    0.523599      4.08424       835.14    -0.798735\n",
            "    0.523599      4.27871      749.334    -0.790412\n",
            "    0.523599      4.48245       667.96    -0.781341\n",
            "    0.523599      4.69588       592.03    -0.771668\n",
            "    0.523599      4.91948      522.034    -0.761471\n",
            "    0.523599      5.15372      458.253    -0.750855\n",
            "    0.523599      5.39912      400.778     -0.73997\n",
            "    0.523599      5.65621      349.503    -0.728988\n",
            "    0.523599      5.92553      304.125    -0.718065\n",
            "    0.523599      6.20768      264.161    -0.707278\n",
            "    0.523599      6.50326      228.997    -0.696552\n",
            "    0.523599      6.81292      197.973    -0.685634\n",
            "    0.523599      7.13732       170.55    -0.674252\n",
            "    0.523599      7.47717      146.326    -0.662202\n",
            "    0.523599       7.8332      124.994    -0.649355\n",
            "    0.523599      8.20619      106.315    -0.635695\n",
            "    0.523599      8.59693      90.0856    -0.621336\n",
            "    0.523599      9.00628      76.1398    -0.606657\n",
            "    0.523599      9.43512      64.2888    -0.592162\n",
            "    0.523599      9.88438      54.2342    -0.577876\n",
            "    0.523599       10.355      45.6779    -0.563518\n",
            "    0.523599      10.8481      38.4092    -0.549069\n",
            "    0.523599      11.3646      32.2638     -0.53472\n",
            "    0.523599      11.9058      27.0726    -0.520443\n",
            "    0.523599      12.4727      22.6909    -0.506197\n",
            "    0.523599      13.0666      18.9979    -0.491989\n",
            "    0.523599      13.6887      15.8924    -0.477891\n",
            "    0.523599      14.3405      13.2873    -0.464008\n",
            "    0.523599      15.0234      11.1056    -0.450412\n",
            "    0.523599      15.7387        9.281    -0.437171\n",
            "    0.523599      16.4881       7.7562    -0.424324\n",
            "    0.523599      17.2732      6.48223    -0.411876\n",
            "    0.523599      18.0957      5.41808    -0.399837\n",
            "    0.523599      18.9574      4.52921    -0.388206\n",
            "    0.523599        19.86      3.78629    -0.376935\n",
            "    0.523599      20.8057      3.16498    -0.365969\n",
            "    0.523599      21.7964       2.6452    -0.355266\n",
            "    0.523599      22.8342       2.2104    -0.344814\n",
            "    0.523599      23.9215      1.84692    -0.334643\n",
            "    0.523599      25.0605      1.54322    -0.324772\n",
            "    0.523599      26.2538      1.28945    -0.315195\n",
            "    0.523599      27.5039      1.07742    -0.305904\n",
            "    0.523599      28.8135     0.900264    -0.296892\n",
            "    0.523599      30.1855     0.752207    -0.288134\n",
            "    0.523599      31.6228     0.628481    -0.279626\n",
            "#   Phi[rad]  Energy[keV]            I          Q/I\n",
            "    0.785398     0.316228      1094.54     -0.85635\n",
            "    0.785398     0.331285      1122.07    -0.855257\n",
            "    0.785398      0.34706      1144.81    -0.853771\n",
            "    0.785398     0.363585       1162.4    -0.851885\n",
            "    0.785398     0.380897      1174.65    -0.849621\n",
            "    0.785398     0.399034      1181.58    -0.847022\n",
            "    0.785398     0.418034      1183.69    -0.844196\n",
            "    0.785398      0.43794      1181.67    -0.841256\n",
            "    0.785398     0.458792      1176.17    -0.838188\n",
            "    0.785398     0.480638      1167.79    -0.834816\n",
            "    0.785398     0.503524      1157.42    -0.830664\n",
            "    0.785398       0.5275      1146.19    -0.825073\n",
            "    0.785398     0.552617      1136.02    -0.817691\n",
            "    0.785398      0.57893      1128.72    -0.806222\n",
            "    0.785398     0.606496      1126.34    -0.781586\n",
            "    0.785398     0.635375      1130.57    -0.789927\n",
            "    0.785398     0.665629      1143.65    -0.834219\n",
            "    0.785398     0.697324       1167.1    -0.824416\n",
            "    0.785398     0.730527      1202.94    -0.825213\n",
            "    0.785398     0.765312      1251.54     -0.82568\n",
            "    0.785398     0.801753      1312.35     -0.82441\n",
            "    0.785398     0.839929      1382.82    -0.831399\n",
            "    0.785398     0.879923      1459.87    -0.838569\n",
            "    0.785398     0.921821      1540.76    -0.841192\n",
            "    0.785398     0.965714       1623.1    -0.847027\n",
            "    0.785398       1.0117      1703.89    -0.851432\n",
            "    0.785398      1.05987      1781.81     -0.85811\n",
            "    0.785398      1.11034      1855.61    -0.862502\n",
            "    0.785398      1.16321      1923.44    -0.865266\n",
            "    0.785398      1.21859      1983.17    -0.866853\n",
            "    0.785398      1.27662      2032.91    -0.867685\n",
            "    0.785398       1.3374      2071.79    -0.867992\n",
            "    0.785398      1.40109      2100.26    -0.867876\n",
            "    0.785398       1.4678      2118.93    -0.867437\n",
            "    0.785398      1.53769      2128.25    -0.866728\n",
            "    0.785398      1.61091      2128.57    -0.865572\n",
            "    0.785398      1.68761      2120.11    -0.864169\n",
            "    0.785398      1.76797      2103.02    -0.862669\n",
            "    0.785398      1.85215      2077.46    -0.861064\n",
            "    0.785398      1.94034      2043.57    -0.859337\n",
            "    0.785398      2.03274      2001.55    -0.857466\n",
            "    0.785398      2.12953       1951.7    -0.855427\n",
            "    0.785398      2.23092       1894.5    -0.853198\n",
            "    0.785398      2.33715      1830.66    -0.850771\n",
            "    0.785398      2.44844      1761.24    -0.848172\n",
            "    0.785398      2.56502      1687.76    -0.845486\n",
            "    0.785398      2.68716      1611.34    -0.842765\n",
            "    0.785398      2.81511      1531.97    -0.839916\n",
            "    0.785398      2.94915       1449.7    -0.836836\n",
            "    0.785398      3.08958      1364.69    -0.833419\n",
            "    0.785398      3.23669      1277.28    -0.829551\n",
            "    0.785398      3.39081      1187.98    -0.825121\n",
            "    0.785398      3.55226      1097.48    -0.820073\n",
            "    0.785398      3.72141      1006.62    -0.814279\n",
            "    0.785398       3.8986      916.429    -0.807651\n",
            "    0.785398      4.08424      828.096    -0.800148\n",
            "    0.785398      4.27871      742.895    -0.791788\n",
            "    0.785398      4.48245       662.12    -0.782679\n",
            "    0.785398      4.69588      586.767    -0.772967\n",
            "    0.785398      4.91948      517.319    -0.762728\n",
            "    0.785398      5.15372      454.051     -0.75207\n",
            "    0.785398      5.39912       397.05    -0.741142\n",
            "    0.785398      5.65621      346.209    -0.730118\n",
            "    0.785398      5.92553      301.223    -0.719156\n",
            "    0.785398      6.20768      261.614    -0.708333\n",
            "    0.785398      6.50326      226.768    -0.697573\n",
            "    0.785398      6.81292      196.031    -0.686625\n",
            "    0.785398      7.13732      168.865    -0.675214\n",
            "    0.785398      7.47717      144.871    -0.663133\n",
            "    0.785398       7.8332      123.744    -0.650255\n",
            "    0.785398      8.20619      105.246    -0.636562\n",
            "    0.785398      8.59693      89.1746    -0.622169\n",
            "    0.785398      9.00628      75.3664    -0.607457\n",
            "    0.785398      9.43512      63.6333    -0.592932\n",
            "    0.785398      9.88438      53.6794    -0.578618\n",
            "    0.785398       10.355      45.2093    -0.564234\n",
            "    0.785398      10.8481      38.0142    -0.549758\n",
            "    0.785398      11.3646      31.9313    -0.535384\n",
            "    0.785398      11.9058      26.7931    -0.521083\n",
            "    0.785398      12.4727      22.4563    -0.506815\n",
            "    0.785398      13.0666      18.8013    -0.492587\n",
            "    0.785398      13.6887      15.7279    -0.478469\n",
            "    0.785398      14.3405      13.1497    -0.464569\n",
            "    0.785398      15.0234      10.9906    -0.450956\n",
            "    0.785398      15.7387       9.1849      -0.4377\n",
            "    0.785398      16.4881      7.67589    -0.424837\n",
            "    0.785398      17.2732      6.41511    -0.412374\n",
            "    0.785398      18.0957      5.36197     -0.40032\n",
            "    0.785398      18.9574      4.48229    -0.388674\n",
            "    0.785398        19.86      3.74706    -0.377388\n",
            "    0.785398      20.8057      3.13218    -0.366408\n",
            "    0.785398      21.7964      2.61778    -0.355692\n",
            "    0.785398      22.8342      2.18749    -0.345228\n",
            "    0.785398      23.9215      1.82778    -0.335044\n",
            "    0.785398      25.0605      1.52722    -0.325162\n",
            "    0.785398      26.2538      1.27609    -0.315573\n",
            "    0.785398      27.5039      1.06625     -0.30627\n",
            "    0.785398      28.8135     0.890932    -0.297248\n",
            "    0.785398      30.1855     0.744409    -0.288479\n",
            "    0.785398      31.6228     0.621966    -0.279961\n",
            "#   Phi[rad]  Energy[keV]            I          Q/I\n",
            "      1.0472     0.316228      1086.67     -0.85659\n",
            "      1.0472     0.331285      1113.73    -0.855464\n",
            "      1.0472      0.34706      1136.01    -0.853939\n",
            "      1.0472     0.363585      1153.15    -0.852008\n",
            "      1.0472     0.380897      1164.98    -0.849695\n",
            "      1.0472     0.399034      1171.54    -0.847042\n",
            "      1.0472     0.418034      1173.35    -0.844165\n",
            "      1.0472      0.43794      1171.13    -0.841182\n",
            "      1.0472     0.458792      1165.55    -0.838081\n",
            "      1.0472     0.480638      1157.21    -0.834686\n",
            "      1.0472     0.503524      1147.02    -0.830513\n",
            "      1.0472       0.5275      1136.12    -0.824894\n",
            "      1.0472     0.552617      1126.41    -0.817486\n",
            "      1.0472      0.57893      1119.69    -0.805943\n",
            "      1.0472     0.606496      1117.98     -0.78101\n",
            "      1.0472     0.635375      1122.92    -0.789662\n",
            "      1.0472     0.665629      1136.69    -0.834871\n",
            "      1.0472     0.697324      1160.74    -0.825042\n",
            "      1.0472     0.730527      1197.01    -0.825925\n",
            "      1.0472     0.765312      1245.83    -0.826459\n",
            "      1.0472     0.801753      1306.59    -0.825262\n",
            "      1.0472     0.839929      1376.78    -0.832233\n",
            "      1.0472     0.879923      1453.39    -0.839383\n",
            "      1.0472     0.921821      1533.71    -0.841994\n",
            "      1.0472     0.965714      1615.38    -0.847761\n",
            "      1.0472       1.0117      1695.46    -0.852084\n",
            "      1.0472      1.05987      1772.63    -0.858667\n",
            "      1.0472      1.11034      1845.66    -0.863001\n",
            "      1.0472      1.16321      1912.72     -0.86572\n",
            "      1.0472      1.21859      1971.69    -0.867272\n",
            "      1.0472      1.27662      2020.72    -0.868074\n",
            "      1.0472       1.3374      2058.96    -0.868355\n",
            "      1.0472      1.40109      2086.86    -0.868217\n",
            "      1.0472       1.4678      2105.04     -0.86776\n",
            "      1.0472      1.53769      2113.95    -0.867034\n",
            "      1.0472      1.61091       2113.9    -0.865864\n",
            "      1.0472      1.68761      2105.14     -0.86445\n",
            "      1.0472      1.76797      2087.82    -0.862938\n",
            "      1.0472      1.85215      2062.09     -0.86132\n",
            "      1.0472      1.94034      2028.09    -0.859579\n",
            "      1.0472      2.03274      1986.02    -0.857694\n",
            "      1.0472      2.12953       1936.2     -0.85564\n",
            "      1.0472      2.23092      1879.11    -0.853395\n",
            "      1.0472      2.33715      1815.45    -0.850952\n",
            "      1.0472      2.44844      1746.28    -0.848337\n",
            "      1.0472      2.56502      1673.13    -0.845635\n",
            "      1.0472      2.68716       1597.1    -0.842899\n",
            "      1.0472      2.81511      1518.19    -0.840036\n",
            "      1.0472      2.94915      1436.43    -0.836943\n",
            "      1.0472      3.08958      1351.99    -0.833515\n",
            "      1.0472      3.23669      1265.22    -0.829635\n",
            "      1.0472      3.39081      1176.62    -0.825195\n",
            "      1.0472      3.55226      1086.84    -0.820138\n",
            "      1.0472      3.72141      996.747    -0.814335\n",
            "      1.0472       3.8986      907.347    -0.807697\n",
            "      1.0472      4.08424      819.807    -0.800186\n",
            "      1.0472      4.27871      735.391    -0.791818\n",
            "      1.0472      4.48245      655.374      -0.7827\n",
            "      1.0472      4.69588      580.739    -0.772979\n",
            "      1.0472      4.91948      511.964     -0.76273\n",
            "      1.0472      5.15372      449.316    -0.752063\n",
            "      1.0472      5.39912       392.88    -0.741125\n",
            "      1.0472      5.65621      342.548    -0.730092\n",
            "      1.0472      5.92553      298.019    -0.719121\n",
            "      1.0472      6.20768      258.816     -0.70829\n",
            "      1.0472      6.50326       224.33    -0.697523\n",
            "      1.0472      6.81292      193.914    -0.686569\n",
            "      1.0472      7.13732      167.034    -0.675154\n",
            "      1.0472      7.47717      143.295    -0.663069\n",
            "      1.0472       7.8332      122.393    -0.650186\n",
            "      1.0472      8.20619      104.094    -0.636488\n",
            "      1.0472      8.59693      88.1959    -0.622091\n",
            "      1.0472      9.00628      74.5373    -0.607375\n",
            "      1.0472      9.43512      62.9318    -0.592847\n",
            "      1.0472      9.88438      53.0867    -0.578531\n",
            "      1.0472       10.355      44.7093    -0.564145\n",
            "      1.0472      10.8481      37.5933    -0.549667\n",
            "      1.0472      11.3646      31.5773    -0.535293\n",
            "      1.0472      11.9058      26.4958    -0.520991\n",
            "      1.0472      12.4727      22.2069    -0.506723\n",
            "      1.0472      13.0666      18.5924    -0.492496\n",
            "      1.0472      13.6887      15.5531    -0.478381\n",
            "      1.0472      14.3405      13.0036    -0.464483\n",
            "      1.0472      15.0234      10.8685    -0.450873\n",
            "      1.0472      15.7387      9.08282    -0.437619\n",
            "      1.0472      16.4881      7.59058    -0.424758\n",
            "      1.0472      17.2732      6.34381    -0.412298\n",
            "      1.0472      18.0957      5.30237    -0.400246\n",
            "      1.0472      18.9574      4.43246    -0.388601\n",
            "      1.0472        19.86       3.7054    -0.377317\n",
            "      1.0472      20.8057      3.09735    -0.366339\n",
            "      1.0472      21.7964      2.58867    -0.355624\n",
            "      1.0472      22.8342      2.16316    -0.345162\n",
            "      1.0472      23.9215      1.80746     -0.33498\n",
            "      1.0472      25.0605      1.51024      -0.3251\n",
            "      1.0472      26.2538       1.2619    -0.315513\n",
            "      1.0472      27.5039       1.0544    -0.306212\n",
            "      1.0472      28.8135     0.881025    -0.297192\n",
            "      1.0472      30.1855     0.736131    -0.288425\n",
            "      1.0472      31.6228      0.61505    -0.279907\n",
            "#   Phi[rad]  Energy[keV]            I          Q/I\n",
            "       1.309     0.316228      1079.31    -0.856873\n",
            "       1.309     0.331285         1106    -0.855735\n",
            "       1.309      0.34706      1127.93    -0.854192\n",
            "       1.309     0.363585      1144.73    -0.852242\n",
            "       1.309     0.380897      1156.27    -0.849907\n",
            "       1.309     0.399034       1162.6    -0.847233\n",
            "       1.309     0.418034      1164.27    -0.844341\n",
            "       1.309      0.43794      1162.04    -0.841354\n",
            "       1.309     0.458792      1156.58    -0.838263\n",
            "       1.309     0.480638      1148.49    -0.834892\n",
            "       1.309     0.503524      1138.69    -0.830755\n",
            "       1.309       0.5275      1128.25    -0.825175\n",
            "       1.309     0.552617      1119.04    -0.817839\n",
            "       1.309      0.57893      1112.82    -0.806398\n",
            "       1.309     0.606496      1111.54    -0.781636\n",
            "       1.309     0.635375      1116.83    -0.790352\n",
            "       1.309     0.665629      1130.77    -0.835425\n",
            "       1.309     0.697324       1154.8    -0.825679\n",
            "       1.309     0.730527      1190.83    -0.826568\n",
            "       1.309     0.765312       1239.2    -0.827111\n",
            "       1.309     0.801753      1299.37    -0.825971\n",
            "       1.309     0.839929       1368.9    -0.832871\n",
            "       1.309     0.879923      1444.78    -0.839935\n",
            "       1.309     0.921821      1524.33     -0.84251\n",
            "       1.309     0.965714       1605.2    -0.848156\n",
            "       1.309       1.0117      1684.48    -0.852422\n",
            "       1.309      1.05987      1760.87    -0.859008\n",
            "       1.309      1.11034      1833.14    -0.863334\n",
            "       1.309      1.16321      1899.47    -0.866039\n",
            "       1.309      1.21859      1957.76     -0.86758\n",
            "       1.309      1.27662      2006.19    -0.868372\n",
            "       1.309       1.3374      2043.92    -0.868644\n",
            "       1.309      1.40109      2071.39    -0.868499\n",
            "       1.309       1.4678      2089.23    -0.868037\n",
            "       1.309      1.53769      2097.87    -0.867305\n",
            "       1.309      1.61091      2097.63    -0.866132\n",
            "       1.309      1.68761      2088.75    -0.864713\n",
            "       1.309      1.76797      2071.38    -0.863197\n",
            "       1.309      1.85215      2045.66    -0.861574\n",
            "       1.309      1.94034      2011.74    -0.859829\n",
            "       1.309      2.03274      1969.84    -0.857938\n",
            "       1.309      2.12953      1920.25    -0.855877\n",
            "       1.309      2.23092      1863.45    -0.853626\n",
            "       1.309      2.33715      1800.15    -0.851176\n",
            "       1.309      2.44844      1731.41    -0.848554\n",
            "       1.309      2.56502      1658.74    -0.845847\n",
            "       1.309      2.68716      1583.23    -0.843105\n",
            "       1.309      2.81511      1504.89    -0.840237\n",
            "       1.309      2.94915      1423.74     -0.83714\n",
            "       1.309      3.08958      1339.96    -0.833708\n",
            "       1.309      3.23669      1253.88    -0.829824\n",
            "       1.309      3.39081         1166     -0.82538\n",
            "       1.309      3.55226      1076.98     -0.82032\n",
            "       1.309      3.72141      987.654    -0.814514\n",
            "       1.309       3.8986      899.031    -0.807874\n",
            "       1.309      4.08424      812.263     -0.80036\n",
            "       1.309      4.27871      728.599    -0.791988\n",
            "       1.309      4.48245      649.301    -0.782868\n",
            "       1.309      4.69588      575.343    -0.773144\n",
            "       1.309      4.91948      507.194    -0.762893\n",
            "       1.309      5.15372      445.119    -0.752222\n",
            "       1.309      5.39912      389.202    -0.741281\n",
            "       1.309      5.65621      339.334    -0.730245\n",
            "       1.309      5.92553      295.216    -0.719271\n",
            "       1.309      6.20768      256.376    -0.708437\n",
            "       1.309      6.50326      222.211    -0.697667\n",
            "       1.309      6.81292      192.078    -0.686711\n",
            "       1.309      7.13732       165.45    -0.675292\n",
            "       1.309      7.47717      141.934    -0.663205\n",
            "       1.309       7.8332      121.229    -0.650318\n",
            "       1.309      8.20619      103.103    -0.636618\n",
            "       1.309      8.59693      87.3554    -0.622217\n",
            "       1.309      9.00628      73.8263    -0.607498\n",
            "       1.309      9.43512      62.3311    -0.592967\n",
            "       1.309      9.88438      52.5795    -0.578647\n",
            "       1.309       10.355       44.282    -0.564258\n",
            "       1.309      10.8481      37.2338    -0.549778\n",
            "       1.309      11.3646      31.2752      -0.5354\n",
            "       1.309      11.9058      26.2422    -0.521095\n",
            "       1.309      12.4727      21.9943    -0.506824\n",
            "       1.309      13.0666      18.4144    -0.492594\n",
            "       1.309      13.6887      15.4041    -0.478475\n",
            "       1.309      14.3405       12.879    -0.464575\n",
            "       1.309      15.0234      10.7644    -0.450962\n",
            "       1.309      15.7387      8.99581    -0.437705\n",
            "       1.309      16.4881      7.51786    -0.424842\n",
            "       1.309      17.2732      6.28303    -0.412379\n",
            "       1.309      18.0957      5.25157    -0.400324\n",
            "       1.309      18.9574      4.38999    -0.388678\n",
            "       1.309        19.86      3.66989    -0.377391\n",
            "       1.309      20.8057      3.06768    -0.366411\n",
            "       1.309      21.7964      2.56387    -0.355694\n",
            "       1.309      22.8342      2.14244     -0.34523\n",
            "       1.309      23.9215      1.79014    -0.335046\n",
            "       1.309      25.0605      1.49577    -0.325164\n",
            "       1.309      26.2538      1.24981    -0.315575\n",
            "       1.309      27.5039      1.04429    -0.306272\n",
            "       1.309      28.8135     0.872583     -0.29725\n",
            "       1.309      30.1855     0.729078    -0.288481\n",
            "       1.309      31.6228     0.609156    -0.279963\n",
            "#   Phi[rad]  Energy[keV]            I          Q/I\n",
            "      1.5708     0.316228      1075.32    -0.856879\n",
            "      1.5708     0.331285      1101.82    -0.855731\n",
            "      1.5708      0.34706      1123.57    -0.854178\n",
            "      1.5708     0.363585       1140.2    -0.852214\n",
            "      1.5708     0.380897       1151.6    -0.849865\n",
            "      1.5708     0.399034      1157.82    -0.847178\n",
            "      1.5708     0.418034      1159.44    -0.844277\n",
            "      1.5708      0.43794      1157.23    -0.841287\n",
            "      1.5708     0.458792      1151.87    -0.838204\n",
            "      1.5708     0.480638      1143.97     -0.83485\n",
            "      1.5708     0.503524      1134.42    -0.830735\n",
            "      1.5708       0.5275       1124.3    -0.825177\n",
            "      1.5708     0.552617      1115.42    -0.817871\n",
            "      1.5708      0.57893      1109.53    -0.806456\n",
            "      1.5708     0.606496      1108.51    -0.781672\n",
            "      1.5708     0.635375      1113.92    -0.790459\n",
            "      1.5708     0.665629      1127.85     -0.83569\n",
            "      1.5708     0.697324      1151.74    -0.825934\n",
            "      1.5708     0.730527      1187.51     -0.82684\n",
            "      1.5708     0.765312      1235.55    -0.827421\n",
            "      1.5708     0.801753      1295.35    -0.826295\n",
            "      1.5708     0.839929      1364.47    -0.833102\n",
            "      1.5708     0.879923      1439.92     -0.84002\n",
            "      1.5708     0.921821      1519.02    -0.842548\n",
            "      1.5708     0.965714      1599.44    -0.848203\n",
            "      1.5708       1.0117      1678.27    -0.852461\n",
            "      1.5708      1.05987      1754.21    -0.859047\n",
            "      1.5708      1.11034      1826.06    -0.863372\n",
            "      1.5708      1.16321      1891.98    -0.866074\n",
            "      1.5708      1.21859      1949.91    -0.867612\n",
            "      1.5708      1.27662         1998    -0.868401\n",
            "      1.5708       1.3374      2035.45    -0.868671\n",
            "      1.5708      1.40109       2062.7    -0.868524\n",
            "      1.5708       1.4678      2080.35     -0.86806\n",
            "      1.5708      1.53769      2088.85    -0.867327\n",
            "      1.5708      1.61091      2088.51    -0.866153\n",
            "      1.5708      1.68761      2079.57    -0.864734\n",
            "      1.5708      1.76797      2062.18    -0.863218\n",
            "      1.5708      1.85215      2036.48    -0.861594\n",
            "      1.5708      1.94034      2002.63    -0.859848\n",
            "      1.5708      2.03274      1960.82    -0.857956\n",
            "      1.5708      2.12953      1911.37    -0.855894\n",
            "      1.5708      2.23092      1854.75    -0.853641\n",
            "      1.5708      2.33715      1791.66     -0.85119\n",
            "      1.5708      2.44844      1723.17    -0.848567\n",
            "      1.5708      2.56502      1650.77    -0.845857\n",
            "      1.5708      2.68716      1575.56    -0.843114\n",
            "      1.5708      2.81511      1497.54    -0.840246\n",
            "      1.5708      2.94915      1416.73    -0.837148\n",
            "      1.5708      3.08958      1333.32    -0.833715\n",
            "      1.5708      3.23669      1247.63    -0.829831\n",
            "      1.5708      3.39081      1160.16    -0.825387\n",
            "      1.5708      3.55226      1071.55    -0.820326\n",
            "      1.5708      3.72141      982.654     -0.81452\n",
            "      1.5708       3.8986      894.462    -0.807881\n",
            "      1.5708      4.08424       808.12    -0.800367\n",
            "      1.5708      4.27871      724.872    -0.791997\n",
            "      1.5708      4.48245      645.971    -0.782877\n",
            "      1.5708      4.69588      572.385    -0.773154\n",
            "      1.5708      4.91948       504.58    -0.762903\n",
            "      1.5708      5.15372      442.821    -0.752234\n",
            "      1.5708      5.39912      387.188    -0.741294\n",
            "      1.5708      5.65621      337.575    -0.730258\n",
            "      1.5708      5.92553      293.683    -0.719284\n",
            "      1.5708      6.20768      255.042    -0.708451\n",
            "      1.5708      6.50326      221.052    -0.697682\n",
            "      1.5708      6.81292      191.075    -0.686726\n",
            "      1.5708      7.13732      164.585    -0.675308\n",
            "      1.5708      7.47717       141.19    -0.663221\n",
            "      1.5708       7.8332      120.594    -0.650335\n",
            "      1.5708      8.20619      102.562    -0.636635\n",
            "      1.5708      8.59693      86.8963    -0.622235\n",
            "      1.5708      9.00628       73.438    -0.607516\n",
            "      1.5708      9.43512       62.003    -0.592985\n",
            "      1.5708      9.88438      52.3026    -0.578665\n",
            "      1.5708       10.355      44.0486    -0.564276\n",
            "      1.5708      10.8481      37.0375    -0.549795\n",
            "      1.5708      11.3646      31.1102    -0.535417\n",
            "      1.5708      11.9058      26.1037    -0.521112\n",
            "      1.5708      12.4727      21.8782     -0.50684\n",
            "      1.5708      13.0666      18.3172     -0.49261\n",
            "      1.5708      13.6887      15.3228    -0.478491\n",
            "      1.5708      14.3405       12.811     -0.46459\n",
            "      1.5708      15.0234      10.7075    -0.450976\n",
            "      1.5708      15.7387      8.94831    -0.437719\n",
            "      1.5708      16.4881      7.47816    -0.424856\n",
            "      1.5708      17.2732      6.24985    -0.412392\n",
            "      1.5708      18.0957      5.22383    -0.400337\n",
            "      1.5708      18.9574      4.36681     -0.38869\n",
            "      1.5708        19.86      3.65051    -0.377404\n",
            "      1.5708      20.8057      3.05147    -0.366423\n",
            "      1.5708      21.7964      2.55033    -0.355706\n",
            "      1.5708      22.8342      2.13112    -0.345241\n",
            "      1.5708      23.9215      1.78068    -0.335057\n",
            "      1.5708      25.0605      1.48787    -0.325175\n",
            "      1.5708      26.2538      1.24321    -0.315585\n",
            "      1.5708      27.5039      1.03878    -0.306282\n",
            "      1.5708      28.8135     0.867974     -0.29726\n",
            "      1.5708      30.1855     0.725227    -0.288491\n",
            "      1.5708      31.6228     0.605939    -0.279972\n",
            "\n"
          ],
          "name": "stdout"
        }
      ]
    },
    {
      "cell_type": "markdown",
      "metadata": {
        "id": "cR5txtbXqTrQ",
        "colab_type": "text"
      },
      "source": [
        "## Plot the mean intensity over the orientations"
      ]
    },
    {
      "cell_type": "code",
      "metadata": {
        "id": "C2b8i5VaqcH0",
        "colab_type": "code",
        "colab": {}
      },
      "source": [
        "ivec=[pf.iint  for pf in pfieldarray_test.pfi]\n",
        "qvec=[pf.qint  for pf in pfieldarray_test.pfi]\n",
        "ee=pfieldarray_test.pfi[0].ebins"
      ],
      "execution_count": 18,
      "outputs": []
    },
    {
      "cell_type": "code",
      "metadata": {
        "id": "SWFaUpCUqfoI",
        "colab_type": "code",
        "colab": {
          "base_uri": "https://localhost:8080/",
          "height": 0
        },
        "outputId": "cb41565d-a267-4792-adb3-eb35f36effe6"
      },
      "source": [
        "totivec = (ivec[0]+ivec[1]+ivec[2]+ivec[3]+ivec[4]+ivec[5]+ivec[6])/7\n",
        "totqvec = (qvec[0]+qvec[1]+qvec[2]+qvec[3]+qvec[4]+qvec[5]+qvec[6])/7\n",
        "plt.loglog(datae,dataf,'.')\n",
        "plt.loglog(ee*(1-2*2.0/10.0)**0.5,totabs*totivec*ee/10e4)\n",
        "plt.loglog(ee*(1-2*2.0/10.0)**0.5,totabs*(totivec*ee/10e4+ee**1.3/1.2e4),'r')\n",
        "plt.ylim(1e-3,1e-1)\n",
        "plt.show()\n",
        "plt.plot(ee,(-ee**1.3/1.2e4/3+totqvec/10e4)/(totivec/10e4+ee**1.3/1.2e4))\n",
        "plt.plot(ee,totqvec/totivec)\n",
        "plt.axhline(y=-0.33,c='k')\n",
        "plt.axhline(y=-1,c='k')\n",
        "plt.xscale(\"log\")\n",
        "plt.ylim(-1.1,0.8)\n",
        "plt.show()"
      ],
      "execution_count": 19,
      "outputs": [
        {
          "output_type": "display_data",
          "data": {
            "image/png": "[encoded data removed]",
            "text/plain": [
              "<Figure size 432x288 with 1 Axes>"
            ]
          },
          "metadata": {
            "tags": [],
            "needs_background": "light"
          }
        },
        {
          "output_type": "display_data",
          "data": {
            "image/png": "[encoded data removed]",
            "text/plain": [
              "<Figure size 432x288 with 1 Axes>"
            ]
          },
          "metadata": {
            "tags": [],
            "needs_background": "light"
          }
        }
      ]
    },
    {
      "cell_type": "markdown",
      "metadata": {
        "id": "SKrCrTFCqpjc",
        "colab_type": "text"
      },
      "source": [
        "## Plot the intensity for several orientations"
      ]
    },
    {
      "cell_type": "code",
      "metadata": {
        "id": "rv6kYiJjqlr3",
        "colab_type": "code",
        "colab": {
          "base_uri": "https://localhost:8080/",
          "height": 527
        },
        "outputId": "2d22ed7f-9db9-4341-981a-bc48989769e4"
      },
      "source": [
        "plt.loglog(datae,dataf,'.')\n",
        "plt.loglog(ee,totabs*(ivec[0]/4e4+ee**1.3/1.2e4))\n",
        "plt.loglog(ee,totabs*(ivec[3]/4e4+ee**1.3/1.2e4))\n",
        "plt.loglog(ee,totabs*(ivec[6]/4e4+ee**1.3/1.2e4))\n",
        "plt.ylim(1e-3,1e-1)\n",
        "plt.show()\n",
        "plt.plot(ee,(-ee**1.3/1.2e4/3+qvec[0]/4e4)/(ivec[0]/4e4+ee**1.3/1.2e4))\n",
        "plt.plot(ee,(-ee**1.3/1.2e4/3+qvec[3]/4e4)/(ivec[3]/4e4+ee**1.3/1.2e4))\n",
        "plt.plot(ee,(-ee**1.3/1.2e4/3+qvec[6]/4e4)/(ivec[6]/4e4+ee**1.3/1.2e4))\n",
        "#plt.plot(ee,totqvec/totivec)\n",
        "plt.axhline(y=-0.33,c='k')\n",
        "plt.axhline(y=-1,c='k')\n",
        "plt.xscale(\"log\")\n",
        "plt.ylim(-1.1,0.3)\n",
        "plt.show()\n",
        "\n"
      ],
      "execution_count": 20,
      "outputs": [
        {
          "output_type": "display_data",
          "data": {
            "image/png": "[encoded data removed]",
            "text/plain": [
              "<Figure size 432x288 with 1 Axes>"
            ]
          },
          "metadata": {
            "tags": [],
            "needs_background": "light"
          }
        },
        {
          "output_type": "display_data",
          "data": {
            "image/png": "[encoded data removed]",
            "text/plain": [
              "<Figure size 432x288 with 1 Axes>"
            ]
          },
          "metadata": {
            "tags": [],
            "needs_background": "light"
          }
        }
      ]
    },
    {
      "cell_type": "code",
      "metadata": {
        "id": "HY3efgpSZX1W",
        "colab_type": "code",
        "colab": {
          "base_uri": "https://localhost:8080/",
          "height": 486
        },
        "outputId": "8d58c372-6485-4e65-c34c-e7d6a3922460"
      },
      "source": [
        "plt.loglog(datae,dataf,'.')\n",
        "#factor=1.2e6 # 0.37 keV\n",
        "factor=1.9e-6 # 0.346 keV\n",
        "# factor=0.6e6 # 0.42 keV\n",
        "plt.loglog(eo,factor*totabs*(iunscat[0]*ee+nscat[0]*ee**4)+totabs*eo**1.3/1.2e4,label='All')\n",
        "plt.loglog(eo,factor*totabs*(iunscat[3]*ee+nscat[3]*ee**4)+totabs*eo**1.3/1.2e4,label='All')\n",
        "plt.loglog(eo,factor*totabs*(iunscat[5]*ee+nscat[5]*ee**4)+totabs*eo**1.3/1.2e4,label='All')\n",
        "#plt.loglog(eo,factor*totabs*(qqunscat*ee+0*nscat*ee**4)+totabs*eo**1.3/1.2e4,label='All')\n",
        "#plt.loglog(ee*kTe,totabs*factor*nout*ee**4*np.exp(-ee),label='Comptonized BB (abs)')\n",
        "# plt.loglog(ee*kTe,ee**-2.859376072901842/2e4*np.exp(-ee),label=r'Power-Law $\\Gamma=4.85$')\n",
        "plt.xlabel(r'$E$ [keV]')\n",
        "plt.ylabel(r'$E f_E$')\n",
        "plt.legend()\n",
        "#plt.loglog(ee,nout*ee**3)\n",
        "plt.xlim(0.5,1e2)\n",
        "plt.ylim(1e-3,1e-1)"
      ],
      "execution_count": 21,
      "outputs": [
        {
          "output_type": "error",
          "ename": "NameError",
          "evalue": "ignored",
          "traceback": [
            "\u001b[0;31m---------------------------------------------------------------------------\u001b[0m",
            "\u001b[0;31mNameError\u001b[0m                                 Traceback (most recent call last)",
            "\u001b[0;32m<ipython-input-21-500634528dbc>\u001b[0m in \u001b[0;36m<module>\u001b[0;34m()\u001b[0m\n\u001b[1;32m      3\u001b[0m \u001b[0mfactor\u001b[0m\u001b[0;34m=\u001b[0m\u001b[0;36m1.9e-6\u001b[0m \u001b[0;31m# 0.346 keV\u001b[0m\u001b[0;34m\u001b[0m\u001b[0;34m\u001b[0m\u001b[0m\n\u001b[1;32m      4\u001b[0m \u001b[0;31m# factor=0.6e6 # 0.42 keV\u001b[0m\u001b[0;34m\u001b[0m\u001b[0;34m\u001b[0m\u001b[0;34m\u001b[0m\u001b[0m\n\u001b[0;32m----> 5\u001b[0;31m \u001b[0mplt\u001b[0m\u001b[0;34m.\u001b[0m\u001b[0mloglog\u001b[0m\u001b[0;34m(\u001b[0m\u001b[0meo\u001b[0m\u001b[0;34m,\u001b[0m\u001b[0mfactor\u001b[0m\u001b[0;34m*\u001b[0m\u001b[0mtotabs\u001b[0m\u001b[0;34m*\u001b[0m\u001b[0;34m(\u001b[0m\u001b[0miunscat\u001b[0m\u001b[0;34m[\u001b[0m\u001b[0;36m0\u001b[0m\u001b[0;34m]\u001b[0m\u001b[0;34m*\u001b[0m\u001b[0mee\u001b[0m\u001b[0;34m+\u001b[0m\u001b[0mnscat\u001b[0m\u001b[0;34m[\u001b[0m\u001b[0;36m0\u001b[0m\u001b[0;34m]\u001b[0m\u001b[0;34m*\u001b[0m\u001b[0mee\u001b[0m\u001b[0;34m**\u001b[0m\u001b[0;36m4\u001b[0m\u001b[0;34m)\u001b[0m\u001b[0;34m+\u001b[0m\u001b[0mtotabs\u001b[0m\u001b[0;34m*\u001b[0m\u001b[0meo\u001b[0m\u001b[0;34m**\u001b[0m\u001b[0;36m1.3\u001b[0m\u001b[0;34m/\u001b[0m\u001b[0;36m1.2e4\u001b[0m\u001b[0;34m,\u001b[0m\u001b[0mlabel\u001b[0m\u001b[0;34m=\u001b[0m\u001b[0;34m'All'\u001b[0m\u001b[0;34m)\u001b[0m\u001b[0;34m\u001b[0m\u001b[0;34m\u001b[0m\u001b[0m\n\u001b[0m\u001b[1;32m      6\u001b[0m \u001b[0mplt\u001b[0m\u001b[0;34m.\u001b[0m\u001b[0mloglog\u001b[0m\u001b[0;34m(\u001b[0m\u001b[0meo\u001b[0m\u001b[0;34m,\u001b[0m\u001b[0mfactor\u001b[0m\u001b[0;34m*\u001b[0m\u001b[0mtotabs\u001b[0m\u001b[0;34m*\u001b[0m\u001b[0;34m(\u001b[0m\u001b[0miunscat\u001b[0m\u001b[0;34m[\u001b[0m\u001b[0;36m3\u001b[0m\u001b[0;34m]\u001b[0m\u001b[0;34m*\u001b[0m\u001b[0mee\u001b[0m\u001b[0;34m+\u001b[0m\u001b[0mnscat\u001b[0m\u001b[0;34m[\u001b[0m\u001b[0;36m3\u001b[0m\u001b[0;34m]\u001b[0m\u001b[0;34m*\u001b[0m\u001b[0mee\u001b[0m\u001b[0;34m**\u001b[0m\u001b[0;36m4\u001b[0m\u001b[0;34m)\u001b[0m\u001b[0;34m+\u001b[0m\u001b[0mtotabs\u001b[0m\u001b[0;34m*\u001b[0m\u001b[0meo\u001b[0m\u001b[0;34m**\u001b[0m\u001b[0;36m1.3\u001b[0m\u001b[0;34m/\u001b[0m\u001b[0;36m1.2e4\u001b[0m\u001b[0;34m,\u001b[0m\u001b[0mlabel\u001b[0m\u001b[0;34m=\u001b[0m\u001b[0;34m'All'\u001b[0m\u001b[0;34m)\u001b[0m\u001b[0;34m\u001b[0m\u001b[0;34m\u001b[0m\u001b[0m\n\u001b[1;32m      7\u001b[0m \u001b[0mplt\u001b[0m\u001b[0;34m.\u001b[0m\u001b[0mloglog\u001b[0m\u001b[0;34m(\u001b[0m\u001b[0meo\u001b[0m\u001b[0;34m,\u001b[0m\u001b[0mfactor\u001b[0m\u001b[0;34m*\u001b[0m\u001b[0mtotabs\u001b[0m\u001b[0;34m*\u001b[0m\u001b[0;34m(\u001b[0m\u001b[0miunscat\u001b[0m\u001b[0;34m[\u001b[0m\u001b[0;36m5\u001b[0m\u001b[0;34m]\u001b[0m\u001b[0;34m*\u001b[0m\u001b[0mee\u001b[0m\u001b[0;34m+\u001b[0m\u001b[0mnscat\u001b[0m\u001b[0;34m[\u001b[0m\u001b[0;36m5\u001b[0m\u001b[0;34m]\u001b[0m\u001b[0;34m*\u001b[0m\u001b[0mee\u001b[0m\u001b[0;34m**\u001b[0m\u001b[0;36m4\u001b[0m\u001b[0;34m)\u001b[0m\u001b[0;34m+\u001b[0m\u001b[0mtotabs\u001b[0m\u001b[0;34m*\u001b[0m\u001b[0meo\u001b[0m\u001b[0;34m**\u001b[0m\u001b[0;36m1.3\u001b[0m\u001b[0;34m/\u001b[0m\u001b[0;36m1.2e4\u001b[0m\u001b[0;34m,\u001b[0m\u001b[0mlabel\u001b[0m\u001b[0;34m=\u001b[0m\u001b[0;34m'All'\u001b[0m\u001b[0;34m)\u001b[0m\u001b[0;34m\u001b[0m\u001b[0;34m\u001b[0m\u001b[0m\n",
            "\u001b[0;31mNameError\u001b[0m: name 'eo' is not defined"
          ]
        },
        {
          "output_type": "display_data",
          "data": {
            "image/png": "[encoded data removed]",
            "text/plain": [
              "<Figure size 432x288 with 1 Axes>"
            ]
          },
          "metadata": {
            "tags": [],
            "needs_background": "light"
          }
        }
      ]
    },
    {
      "cell_type": "code",
      "metadata": {
        "scrolled": true,
        "id": "2NFeJCAEZX1n",
        "colab_type": "code",
        "colab": {}
      },
      "source": [
        "plt.rc('axes', labelsize=10)\n",
        "plt.rc('xtick', labelsize=10)    # fontsize of the tick labels\n",
        "plt.rc('ytick', labelsize=10)\n",
        "plt.loglog(datae,dataf,'.',markersize=3)\n",
        "#factor=1.2e6 # 0.37 keV\n",
        "factor=1.9e-6 # 0.346 keV\n",
        "# factor=0.6e6 # 0.42 keV\n",
        "plt.loglog(eo,factor*totabs*((iunscat[0]+iunscat[1]+iunscat[2]+iunscat[3]+iunscat[4]+iunscat[5]+iunscat[6])*ee/7),'k--',label='H atmo in X')\n",
        "plt.loglog(eo,factor*totabs*((nscat[0]+nscat[1]+nscat[2]+nscat[3]+nscat[4]+nscat[5]+nscat[6])*ee**4/7),'k-.',label='Comptonized O')\n",
        "plt.loglog(eo,totabs*eo**1.3/1.2e4,'k:',label='PL')\n",
        "plt.loglog(eo,factor*totabs*((iunscat[0]+iunscat[1]+iunscat[2]+iunscat[3]+iunscat[4]+iunscat[5]+iunscat[6])*ee/7+(nscat[0]+nscat[1]+nscat[2]+nscat[3]+nscat[4]+nscat[5]+nscat[6])*ee**4/7)+totabs*eo**1.3/1.2e4,'r',label='Total',linewidth=2)\n",
        "plt.loglog([eo[-1],1e2],[eo[-1]**1.3/1.2e4,1e2**1.3/1.2e4],'r',linewidth=2)\n",
        "#plt.loglog(eo,factor*totabs*(qqunscat*ee+0*nscat*ee**4)+totabs*eo**1.3/1.2e4,label='All')\n",
        "#plt.loglog(ee*kTe,totabs*factor*nout*ee**4*np.exp(-ee),label='Comptonized BB (abs)')\n",
        "# plt.loglog(ee*kTe,ee**-2.859376072901842/2e4*np.exp(-ee),label=r'Power-Law $\\Gamma=4.85$')\n",
        "#plt.xlabel(r'$E$ [keV]')\n",
        "#plt.ylabel(r'$E f_E$')\n",
        "plt.legend()\n",
        "#plt.loglog(ee,nout*ee**3)\n",
        "plt.xlim(0.4,1e2)\n",
        "plt.ylim(1e-4,1e-1)\n",
        "plt.xlabel(\"Energy [keV]\")\n",
        "plt.ylabel(r'$E\\,f_E[\\rm{keV}^2 \\rm{cm}^{-2}\\rm{s}^{-1}\\rm{keV}^{-1}]$')\n",
        "plt.savefig('CompOsurf.pdf',bbox_inches='tight')\n",
        "plt.show()"
      ],
      "execution_count": null,
      "outputs": []
    },
    {
      "cell_type": "code",
      "metadata": {
        "id": "i9nrjaDAZX17",
        "colab_type": "code",
        "colab": {}
      },
      "source": [
        "#plt.semilogx(ee,(nscat*ee**3-qqunscat)/(nscat*ee**3+qqunscat))\n",
        "plt.semilogx(eo,(factor*totabs*(-iunscat[0]*ee+nscat[0]*ee**4)-totabs*eo**1.3/1.2e4/3)/(factor*totabs*(iunscat[0]*ee+nscat[0]*ee**4)+totabs*eo**1.3/1.2e4),label='All')\n",
        "plt.semilogx(eo,(factor*totabs*(-iunscat[3]*ee+nscat[3]*ee**4)-totabs*eo**1.3/1.2e4/3)/(factor*totabs*(iunscat[3]*ee+nscat[3]*ee**4)+totabs*eo**1.3/1.2e4),label='All')\n",
        "plt.xlim(0.5,1e2)\n",
        "plt.xlabel('Energy [keV]')\n",
        "plt.ylabel('Q/I')"
      ],
      "execution_count": null,
      "outputs": []
    },
    {
      "cell_type": "code",
      "metadata": {
        "id": "hmM9h_WaZX2M",
        "colab_type": "code",
        "colab": {}
      },
      "source": [
        "allsurface2=Magnetar.surface_model()\n",
        "allsurface2.loaddata(glob.glob('Sample_Atmospheres/B14.11T6.57_h/*.int'))\n",
        "aa=allsurface2.mcolat\n",
        "# add the angles\n",
        "allsurface2.mcolat=aa+[180-i for i in aa[::-1]]\n",
        "# add the patches\n",
        "allsurface2.patches=allsurface2.patches+allsurface2.patches[::-1]\n",
        "newiilist,newqqlist=[],[]\n",
        "for ii,pp in enumerate(allsurface2.patches):\n",
        "    print(ii)\n",
        "    ## calculate mu and kTe for the scattered o-mode from pp\n",
        "    allsurface2.patches[ii]=Magnetar.rescale_atmo(pp,lambda ee: factor, lambda ee: 0)+ Magnetar.rescale_atmo(Magnetar.compton_bb_atmo(kTe,kTe,mulist[ii],mulist[ii]),lambda ee: 0, lambda ee: factor/3)\n",
        "    iiint,qqint = allsurface2.patches[ii].fluxIQ(ee)\n",
        "    print(len(iiint))\n",
        "    newiilist.append(iiint)\n",
        "    newqqlist.append(qqint)"
      ],
      "execution_count": null,
      "outputs": []
    },
    {
      "cell_type": "code",
      "metadata": {
        "scrolled": true,
        "id": "JC2xtUKJZX2e",
        "colab_type": "code",
        "colab": {}
      },
      "source": [
        "plt.loglog(datae,dataf,'.')\n",
        "#factor=1.2e6 # 0.37 keV\n",
        "factor=1.9e-6 # 0.346 keV\n",
        "# factor=0.6e6 # 0.42 keV\n",
        "plt.loglog(eo,factor*totabs*(iunscat[3]*ee+nscat[3]*ee**4)+totabs*eo**1.3/1.2e4,label='All')\n",
        "plt.loglog(eo,totabs*newiilist[3]*ee+totabs*eo**1.3/1.2e4)\n",
        "#plt.loglog(eo,factor*totabs*(qqunscat*ee+0*nscat*ee**4)+totabs*eo**1.3/1.2e4,label='All')\n",
        "#plt.loglog(ee*kTe,totabs*factor*nout*ee**4*np.exp(-ee),label='Comptonized BB (abs)')\n",
        "# plt.loglog(ee*kTe,ee**-2.859376072901842/2e4*np.exp(-ee),label=r'Power-Law $\\Gamma=4.85$')\n",
        "plt.xlabel(r'$E$ [keV]')\n",
        "plt.ylabel(r'$E f_E$')\n",
        "plt.legend()\n",
        "#plt.loglog(ee,nout*ee**3)\n",
        "plt.xlim(0.5,1e2)\n",
        "plt.ylim(1e-3,1e-1)"
      ],
      "execution_count": null,
      "outputs": []
    },
    {
      "cell_type": "code",
      "metadata": {
        "id": "NDJUIh9RZX2v",
        "colab_type": "code",
        "colab": {}
      },
      "source": [
        "#plt.semilogx(ee,(nscat*ee**3-qqunscat)/(nscat*ee**3+qqunscat))\n",
        "plt.semilogx(eo,(factor*totabs*(-iunscat[0]*ee+nscat[0]*ee**4)-totabs*eo**1.3/1.2e4/3)/(factor*totabs*(iunscat[0]*ee+nscat[0]*ee**4)+totabs*eo**1.3/1.2e4),label='All')\n",
        "plt.semilogx(eo,(newqqlist[0]*ee-eo**1.3/1.2e4/3)/(newiilist[0]*ee+eo**1.3/1.2e4),label='All')\n",
        "plt.xlim(0.5,1e2)\n",
        "plt.xlabel('Energy [keV]')\n",
        "plt.ylabel('Q/I')"
      ],
      "execution_count": null,
      "outputs": []
    },
    {
      "cell_type": "code",
      "metadata": {
        "scrolled": true,
        "id": "mGjPLDmhZX3F",
        "colab_type": "code",
        "colab": {}
      },
      "source": [
        "mufil,pfi = [],[]\n",
        "for i in glob.glob('Sample_Pfields/pfield_models_QED/*'):\n",
        "    print(i)\n",
        "    pfii= Magnetar.pfield()\n",
        "    pfii.loaddata(i)\n",
        "    pfi.append(pfii)\n",
        "    mufil.append(float(i.rsplit('_',1)[-1][:2]))"
      ],
      "execution_count": null,
      "outputs": []
    },
    {
      "cell_type": "code",
      "metadata": {
        "id": "lC2alT6-ZX3a",
        "colab_type": "code",
        "colab": {}
      },
      "source": [
        "ind = np.argsort(mufil)\n",
        "mufil = [mufil[i] for i in ind]\n",
        "pfi = [pfi[i] for i in ind]\n",
        "mufil"
      ],
      "execution_count": null,
      "outputs": []
    },
    {
      "cell_type": "code",
      "metadata": {
        "id": "_LlHXXjnZX3u",
        "colab_type": "code",
        "colab": {}
      },
      "source": [
        "ivec,qvec = [],[]\n",
        "for i in range(len(mufil)):\n",
        "    print(i)\n",
        "    iint,qint=[],[]\n",
        "    for en in ee:\n",
        "        pfi[i].recalculate(en,allsurface2,gtt=(1-2*2.0/10.0)**0.5)\n",
        "        iint.append(pfi[i].imean)\n",
        "        qint.append(pfi[i].qmean)\n",
        "    ivec.append(iint)\n",
        "    qvec.append(qint)\n",
        "ivec = np.array(ivec)\n",
        "qvec = np.array(qvec)\n"
      ],
      "execution_count": null,
      "outputs": []
    },
    {
      "cell_type": "code",
      "metadata": {
        "id": "Iwka2SXpZX3-",
        "colab_type": "code",
        "colab": {}
      },
      "source": [
        "totivec = (ivec[1]+ivec[2]+ivec[3]+ivec[4]+ivec[5]+ivec[6]+ivec[7])/7\n",
        "totqvec = (qvec[1]+qvec[2]+qvec[3]+qvec[4]+qvec[5]+qvec[6]+ivec[7])/7\n",
        "plt.loglog(datae,dataf,'.')\n",
        "plt.loglog(ee,totabs*totivec*ee*1.6e1)\n",
        "plt.loglog(ee,totabs*(totivec*ee*1.6e1+ee**1.3/1.2e4),'r')\n",
        "plt.xlim(0.5,1e2)\n",
        "plt.ylim(1e-3,1e-1)\n",
        "plt.show()\n",
        "plt.plot(ee,(-ee**1.3/1.2e4/3+totqvec*ee*1.6e1)/(totivec*ee*1.6e1+ee**1.3/1.2e4))\n",
        "#plt.plot(ee,totqvec/totivec)\n",
        "plt.plot([ee[0],ee[-1]],[-0.33,-0.33])\n",
        "plt.plot([ee[0],ee[-1]],[-1.0,-1.0])\n",
        "plt.xscale(\"log\")\n",
        "plt.ylim(-1.1,0.5)\n",
        "plt.show()"
      ],
      "execution_count": null,
      "outputs": []
    },
    {
      "cell_type": "code",
      "metadata": {
        "id": "gudU8HfqZX4Q",
        "colab_type": "code",
        "colab": {}
      },
      "source": [
        "plt.loglog(datae,dataf,'.')\n",
        "plt.loglog(ee,totabs*ivec[3]*ee*1.5e1)\n",
        "plt.loglog(ee,totabs*(ivec[3]*ee*1.5e1+ee**1.3/1.2e4),'r')\n",
        "plt.xlim(0.5,1e2)\n",
        "plt.ylim(1e-3,1e-1)\n",
        "plt.show()\n",
        "plt.plot(ee,(-ee**1.3/1.2e4/3+qvec[3]*ee*1.5e1)/(ivec[3]*ee*1.5e1+ee**1.3/1.2e4))\n",
        "#plt.plot(ee,totqvec/totivec)\n",
        "plt.plot([ee[0],ee[-1]],[-0.33,-0.33])\n",
        "plt.plot([ee[0],ee[-1]],[-1.0,-1.0])\n",
        "plt.xscale(\"log\")\n",
        "plt.ylim(-1.1,0.5)\n",
        "plt.show()"
      ],
      "execution_count": null,
      "outputs": []
    },
    {
      "cell_type": "code",
      "metadata": {
        "id": "K3p_Cb6NZX4g",
        "colab_type": "code",
        "colab": {}
      },
      "source": [
        ""
      ],
      "execution_count": null,
      "outputs": []
    },
    {
      "cell_type": "code",
      "metadata": {
        "id": "trR3QVI4ZX4x",
        "colab_type": "code",
        "colab": {}
      },
      "source": [
        "pfii=Magnetar.pfield()\n",
        "pfii.loaddata('Sample_Pfields/pfield_models_noQED/pfield_noQED_30')\n",
        "pfiNQED30=pfii\n",
        "mufilNQED30=float('Sample_Pfields/pfield_models_noQED/pfield_noQED_30'.rsplit('_',1)[-1][:2])"
      ],
      "execution_count": null,
      "outputs": []
    },
    {
      "cell_type": "code",
      "metadata": {
        "id": "AmmzchhiZX5A",
        "colab_type": "code",
        "colab": {}
      },
      "source": [
        "iint,qint=[],[]\n",
        "for en in ee:\n",
        "    pfiNQED30.recalculate(en,allsurface2,gtt=(1-2*2.0/10.0)**0.5)\n",
        "    iint.append(pfiNQED30.imean)\n",
        "    qint.append(pfiNQED30.qmean)\n",
        "ivecNQED30=iint\n",
        "qvecNQED30=qint\n",
        "ivecNQED30 = np.array(ivecNQED30)\n",
        "qvecNQED30 = np.array(qvecNQED30)"
      ],
      "execution_count": null,
      "outputs": []
    },
    {
      "cell_type": "code",
      "metadata": {
        "id": "iO9iA0yHZX5U",
        "colab_type": "code",
        "colab": {}
      },
      "source": [
        "pfiNQED45=Magnetar.pfield()\n",
        "pfiNQED45.loaddata('Sample_Pfields/pfield_models_noQED/pfield_noQED_45')"
      ],
      "execution_count": null,
      "outputs": []
    },
    {
      "cell_type": "code",
      "metadata": {
        "id": "u1_ymbxMZX5k",
        "colab_type": "code",
        "colab": {}
      },
      "source": [
        "iint,qint=[],[]\n",
        "for en in ee:\n",
        "    pfiNQED45.recalculate(en,allsurface2,gtt=(1-2*2.0/10.0)**0.5)\n",
        "    iint.append(pfiNQED45.imean)\n",
        "    qint.append(pfiNQED45.qmean)\n",
        "ivecNQED45=iint\n",
        "qvecNQED45=qint\n",
        "ivecNQED45 = np.array(ivecNQED45)\n",
        "qvecNQED45 = np.array(qvecNQED45)"
      ],
      "execution_count": null,
      "outputs": []
    },
    {
      "cell_type": "code",
      "metadata": {
        "id": "4JrTyr3ZZX5z",
        "colab_type": "code",
        "colab": {}
      },
      "source": [
        "plt.loglog(datae,dataf,'.')\n",
        "plt.loglog(ee,totabs*ivecNQED30*ee*1.5e1)\n",
        "plt.loglog(ee,totabs*(ivecNQED30*ee*1.5e1+ee**1.3/1.2e4),'r')\n",
        "plt.xlim(0.5,1e2)\n",
        "plt.ylim(1e-3,1e-1)\n",
        "plt.show()\n",
        "\n",
        "plt.plot(ee,(-ee**1.3/1.2e4/3+qvec[3]*ee*1.5e1)/(ivec[3]*ee*1.5e1+ee**1.3/1.2e4),label='with')\n",
        "plt.plot(ee,(-ee**1.3/1.2e4/3+qvecNQED30*ee*1.5e1)/(ivecNQED30*ee*1.5e1+ee**1.3/1.2e4),label='without')\n",
        "plt.plot(ee,(-ee**1.3/1.2e4/3+qvecNQED45*ee*1.5e1)/(ivecNQED45*ee*1.5e1+ee**1.3/1.2e4),label='without')\n",
        "#plt.plot(ee,totqvec/totivec)\n",
        "plt.plot([ee[0],ee[-1]],[-0.33,-0.33])\n",
        "plt.plot([ee[0],ee[-1]],[-1.0,-1.0])\n",
        "plt.xscale(\"log\")\n",
        "plt.legend()\n",
        "plt.xlim(0.5,1e2)\n",
        "plt.ylim(-1.1,0.5)\n",
        "plt.savefig('comp.pdf',bbox_inches='tight')\n",
        "plt.show()"
      ],
      "execution_count": null,
      "outputs": []
    },
    {
      "cell_type": "code",
      "metadata": {
        "id": "-sR1kKfsZX6F",
        "colab_type": "code",
        "colab": {}
      },
      "source": [
        "plt.rc('axes', labelsize=12)\n",
        "plt.rc('xtick', labelsize=11)    # fontsize of the tick labels\n",
        "plt.rc('ytick', labelsize=11)\n",
        "plt.plot([ee[0],ee[-1]],[-1.0,-1.0],'k--', label='H atmo in X')\n",
        "plt.plot([ee[0],ee[-1]],[1.0,1.0],'k-.',label='Comptonized O')\n",
        "plt.plot([ee[0],ee[-1]],[-0.33,-0.33],'k:',label='PL')\n",
        "#plt.plot(ee,(-ee**1.3/1.2e4/3+qvecNQED30*ee*1.5e1)/(ivecNQED30*ee*1.5e1+ee**1.3/1.2e4),'r--',label='Total without QED')\n",
        "plt.plot(ee,(qvecNQED30*ee*1.5e1)/(ivecNQED30*ee*1.5e1+ee**1.3/1.2e4),label='Total w/o QED')\n",
        "plt.plot(ee,(-ee**1.3/1.2e4/3+qvec[3]*ee*1.5e1)/(ivec[3]*ee*1.5e1+ee**1.3/1.2e4),'r',label='Total w/ QED',linewidth=2)\n",
        "#plt.plot(ee,totqvec/totivec)\n",
        "#plt.plot([ee[0],ee[-1]],[-1.0,-1.0])\n",
        "plt.xscale(\"log\")\n",
        "plt.legend()\n",
        "plt.xlim(0.5,1.0e2)\n",
        "plt.ylim(-1.1,1.1)\n",
        "plt.xlabel(\"Energy [keV]\")\n",
        "plt.ylabel(r'$Q/I$')\n",
        "plt.savefig('CompOQI.pdf',bbox_inches='tight')\n",
        "plt.show()"
      ],
      "execution_count": null,
      "outputs": []
    },
    {
      "cell_type": "code",
      "metadata": {
        "id": "BkwC-tfyZX6U",
        "colab_type": "code",
        "colab": {}
      },
      "source": [
        "np.savetxt(\"CompO.txt\",np.c_[ee,(-ee**1.3/1.2e4/3+qvec[3]*ee*1.5e1)/(ivec[3]*ee*1.5e1+ee**1.3/1.2e4)])"
      ],
      "execution_count": null,
      "outputs": []
    },
    {
      "cell_type": "code",
      "metadata": {
        "id": "2ngkghgHZX6g",
        "colab_type": "code",
        "colab": {}
      },
      "source": [
        "pf30=Magnetar.pfield()\n",
        "pf30.loaddata('Sample_Pfields/pfield_models_noQED/pfield_noQED_30')\n",
        "pf30.recalculate(2,allsurface2)"
      ],
      "execution_count": null,
      "outputs": []
    },
    {
      "cell_type": "code",
      "metadata": {
        "id": "MGt9cN5lZX6v",
        "colab_type": "code",
        "colab": {}
      },
      "source": [
        "q=pf30.plot(datamap=pf30.data['X']+pf30.data['O'],cmap='inferno',ellipsecolor=None)\n",
        "q.savefig('CompOmap.pdf',bbox_inches='tight')"
      ],
      "execution_count": null,
      "outputs": []
    },
    {
      "cell_type": "code",
      "metadata": {
        "id": "kCpiMOqLZX67",
        "colab_type": "code",
        "colab": {}
      },
      "source": [
        "q=pf30.plot(datamap=pf30.data['X'],cmap='inferno',ellipsecolor=None)\n",
        "q.savefig('CompOmapX.pdf',bbox_inches='tight')"
      ],
      "execution_count": null,
      "outputs": []
    },
    {
      "cell_type": "code",
      "metadata": {
        "id": "H48LwO2rZX7F",
        "colab_type": "code",
        "colab": {}
      },
      "source": [
        "q=pf30.plot(datamap=pf30.data['O'],cmap='inferno',ellipsecolor=None)\n",
        "q.savefig('CompOmapO.pdf',bbox_inches='tight')"
      ],
      "execution_count": null,
      "outputs": []
    },
    {
      "cell_type": "code",
      "metadata": {
        "id": "S3MT0asOZX7P",
        "colab_type": "code",
        "colab": {}
      },
      "source": [
        "run ../pfield/plotsurfacemap.py Sample_Pfields/pfield_models_noQED/pfield_noQED_45\n"
      ],
      "execution_count": null,
      "outputs": []
    },
    {
      "cell_type": "code",
      "metadata": {
        "id": "S3qSpPd7ZX7a",
        "colab_type": "code",
        "colab": {}
      },
      "source": [
        "run ../pfield/plotsurfacemap.py Sample_Pfields/pfield_models_QED/pfield_5keV_30deg\n"
      ],
      "execution_count": null,
      "outputs": []
    },
    {
      "cell_type": "code",
      "metadata": {
        "id": "ki32eqQBZX7k",
        "colab_type": "code",
        "colab": {}
      },
      "source": [
        "run ../pfield/plotsurfacemap.py Sample_Pfields/pfield_models_QED/pfield_5keV_60deg\n"
      ],
      "execution_count": null,
      "outputs": []
    },
    {
      "cell_type": "code",
      "metadata": {
        "id": "r3kYqfE0ZX7v",
        "colab_type": "code",
        "colab": {}
      },
      "source": [
        "run ../pfield/plotsurfacemap.py Sample_Pfields/pfield_models_QED/pfield_5keV_30deg Sample_Pfields/pfield_models_QED/pfield_5keV_60deg Sample_Pfields/pfield_models_noQED/pfield_noQED_45"
      ],
      "execution_count": null,
      "outputs": []
    },
    {
      "cell_type": "code",
      "metadata": {
        "id": "ZFWO0Fj4ZX77",
        "colab_type": "code",
        "colab": {}
      },
      "source": [
        "run ../pfield/plotsurfacemap.py Sample_Pfields/pfield_models_QED/pfield_5keV_75deg  Sample_Pfields/pfield_models_noQED/pfield_noQED_75"
      ],
      "execution_count": null,
      "outputs": []
    },
    {
      "cell_type": "code",
      "metadata": {
        "id": "4WswnPlGZX8M",
        "colab_type": "code",
        "colab": {}
      },
      "source": [
        "run ../pfield/plotsurfacemap.py Sample_Pfields/pfield_models_QED/pfield_5keV_30deg  Sample_Pfields/pfield_models_noQED/pfield_noQED_30"
      ],
      "execution_count": null,
      "outputs": []
    },
    {
      "cell_type": "code",
      "metadata": {
        "id": "ntXbPo5EZX8Z",
        "colab_type": "code",
        "colab": {}
      },
      "source": [
        ""
      ],
      "execution_count": null,
      "outputs": []
    }
  ]
}